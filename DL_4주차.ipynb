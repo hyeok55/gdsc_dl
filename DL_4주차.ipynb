{
 "cells": [
  {
   "cell_type": "markdown",
   "metadata": {
    "id": "a9k1hjAs8iPj"
   },
   "source": [
    "# Drop Out Layer 변화 확인"
   ]
  },
  {
   "cell_type": "code",
   "execution_count": 1,
   "metadata": {
    "colab": {
     "base_uri": "https://localhost:8080/"
    },
    "executionInfo": {
     "elapsed": 2179,
     "status": "ok",
     "timestamp": 1665055099949,
     "user": {
      "displayName": "김혁",
      "userId": "04473511717812345033"
     },
     "user_tz": -540
    },
    "id": "0inJXGg_d1Un",
    "outputId": "a387cb01-3c22-4386-98e6-946fd42f2e26"
   },
   "outputs": [
    {
     "name": "stdout",
     "output_type": "stream",
     "text": [
      "tensor([[-0.2646, -0.4513, -0.9562,  0.3141],\n",
      "        [-0.6960,  1.2055,  1.1234,  0.7057],\n",
      "        [ 1.6759, -1.4074,  0.2524,  1.6994],\n",
      "        [-0.9584,  0.4801, -0.4617,  0.3619]])\n",
      "tensor([[-0.0000, -0.0000, -0.0000,  0.6282],\n",
      "        [-0.0000,  2.4110,  2.2467,  0.0000],\n",
      "        [ 0.0000, -2.8149,  0.5047,  3.3987],\n",
      "        [-1.9167,  0.9602, -0.0000,  0.7237]])\n"
     ]
    }
   ],
   "source": [
    "import torch\n",
    "\n",
    "n = torch.nn.Dropout(p = 0.5)\n",
    "input = torch.randn(4,4)\n",
    "output = n(input)\n",
    "print(input)\n",
    "print(output)"
   ]
  },
  {
   "cell_type": "markdown",
   "metadata": {
    "id": "fmld9U5rAmn4"
   },
   "source": [
    "# Batch Normalization 확인하기"
   ]
  },
  {
   "cell_type": "code",
   "execution_count": 2,
   "metadata": {
    "colab": {
     "base_uri": "https://localhost:8080/"
    },
    "executionInfo": {
     "elapsed": 12,
     "status": "ok",
     "timestamp": 1665055099951,
     "user": {
      "displayName": "김혁",
      "userId": "04473511717812345033"
     },
     "user_tz": -540
    },
    "id": "ZUtITYhAd2dY",
    "outputId": "3e0be1c0-fc4d-4c70-f32d-4822d258e146"
   },
   "outputs": [
    {
     "name": "stdout",
     "output_type": "stream",
     "text": [
      "tensor([[-0.7154,  0.0850, -0.6979, -0.6353,  0.3340],\n",
      "        [ 0.8334, -0.1847,  0.1409,  1.1112, -1.9953],\n",
      "        [ 0.5498, -0.8954,  0.4661,  0.7140, -0.1481],\n",
      "        [ 0.1469,  0.0719, -1.0601,  0.1432, -0.6314],\n",
      "        [-0.7982,  0.1669, -1.7535,  0.2574, -1.1155]])\n",
      "tensor([[-1.0916,  0.6053, -0.1455, -1.6212,  1.3008],\n",
      "        [ 1.2608, -0.0856,  0.8973,  1.3487, -1.5980],\n",
      "        [ 0.8300, -1.9065,  1.3015,  0.6732,  0.7008],\n",
      "        [ 0.2182,  0.5717, -0.5957, -0.2974,  0.0994],\n",
      "        [-1.2174,  0.8152, -1.4576, -0.1033, -0.5031]],\n",
      "       grad_fn=<NativeBatchNormBackward0>)\n",
      "tensor([ 2.3842e-08,  3.5763e-08,  2.3842e-08, -7.4506e-09, -5.9605e-08],\n",
      "       grad_fn=<MeanBackward1>) tensor([1.2500, 1.2499, 1.2500, 1.2500, 1.2500], grad_fn=<VarBackward0>)\n"
     ]
    }
   ],
   "source": [
    "n = torch.nn.BatchNorm1d(5)\n",
    "input = torch.randn(5,5)\n",
    "output = n(input)\n",
    "print(input)\n",
    "print(output)\n",
    "print(output.mean(axis = 0),output.var(axis=0))"
   ]
  },
  {
   "cell_type": "markdown",
   "metadata": {
    "id": "7DHDFqTZFuXh"
   },
   "source": [
    "# Weight Decay"
   ]
  },
  {
   "cell_type": "code",
   "execution_count": 3,
   "metadata": {
    "executionInfo": {
     "elapsed": 7,
     "status": "ok",
     "timestamp": 1665055099951,
     "user": {
      "displayName": "김혁",
      "userId": "04473511717812345033"
     },
     "user_tz": -540
    },
    "id": "6B32Hm32ZTD7"
   },
   "outputs": [],
   "source": [
    "import torch"
   ]
  },
  {
   "cell_type": "markdown",
   "metadata": {
    "id": "T-TC0f1H5Oab"
   },
   "source": []
  },
  {
   "cell_type": "code",
   "execution_count": 4,
   "metadata": {
    "executionInfo": {
     "elapsed": 7,
     "status": "ok",
     "timestamp": 1665055099952,
     "user": {
      "displayName": "김혁",
      "userId": "04473511717812345033"
     },
     "user_tz": -540
    },
    "id": "z4eg_Hzb1GMf"
   },
   "outputs": [],
   "source": [
    "# device 설정 (gpu & cpu)\n",
    "device = 'cuda' if torch.cuda.is_available() else 'cpu'\n",
    "\n",
    "# random seed 고정 (항상 같은 결과값이 나오게 하기 위함)\n",
    "torch. manual_seed(777)\n",
    "if device == 'cuda':\n",
    "  torch.cuda.manual_seed_all(777)"
   ]
  },
  {
   "cell_type": "code",
   "execution_count": 5,
   "metadata": {
    "executionInfo": {
     "elapsed": 5109,
     "status": "ok",
     "timestamp": 1665055105055,
     "user": {
      "displayName": "김혁",
      "userId": "04473511717812345033"
     },
     "user_tz": -540
    },
    "id": "WIu1JySS1Jy5"
   },
   "outputs": [],
   "source": [
    "x_train = torch.FloatTensor([[1, -0.3, 0.8],\n",
    "                             [0.7, 0.2, 0.6],\n",
    "                             [0.3, 0.5, 0.3],\n",
    "                             [1, 1, 1.1],\n",
    "                             [-1, -1.5, -1.2]]).to(device)\n",
    "y_train = torch.FloatTensor([[152], [185], [180], [196], [142]]).to(device)"
   ]
  },
  {
   "cell_type": "code",
   "execution_count": 6,
   "metadata": {
    "executionInfo": {
     "elapsed": 5,
     "status": "ok",
     "timestamp": 1665055105056,
     "user": {
      "displayName": "김혁",
      "userId": "04473511717812345033"
     },
     "user_tz": -540
    },
    "id": "E3_eaRRE65rV"
   },
   "outputs": [],
   "source": [
    "model = torch.nn.Linear(3,1).to(device)"
   ]
  },
  {
   "cell_type": "code",
   "execution_count": 7,
   "metadata": {
    "executionInfo": {
     "elapsed": 5,
     "status": "ok",
     "timestamp": 1665055105057,
     "user": {
      "displayName": "김혁",
      "userId": "04473511717812345033"
     },
     "user_tz": -540
    },
    "id": "pljYpj_t6-8r"
   },
   "outputs": [],
   "source": [
    "criterion = torch.nn.MSELoss().to(device)\n",
    "optimizer = torch.optim.SGD(model.parameters(),lr = 1e-10,weight_decay = 1)"
   ]
  },
  {
   "cell_type": "code",
   "execution_count": 8,
   "metadata": {
    "colab": {
     "base_uri": "https://localhost:8080/"
    },
    "executionInfo": {
     "elapsed": 3106,
     "status": "ok",
     "timestamp": 1665055108158,
     "user": {
      "displayName": "김혁",
      "userId": "04473511717812345033"
     },
     "user_tz": -540
    },
    "id": "iMXU4ZMm7OVh",
    "outputId": "7c90bc77-fdba-4992-8b94-c6bd78e73f3b"
   },
   "outputs": [
    {
     "name": "stdout",
     "output_type": "stream",
     "text": [
      "0 29797.48828125\n",
      "1 29797.48828125\n",
      "2 29797.48828125\n",
      "3 29797.48828125\n",
      "4 29797.48828125\n",
      "5 29797.48828125\n",
      "6 29797.48828125\n",
      "7 29797.48828125\n",
      "8 29797.48828125\n",
      "9 29797.48828125\n",
      "10 29797.48828125\n",
      "11 29797.48828125\n",
      "12 29797.48828125\n",
      "13 29797.48828125\n",
      "14 29797.48828125\n",
      "15 29797.48828125\n",
      "16 29797.48828125\n",
      "17 29797.48828125\n",
      "18 29797.48828125\n",
      "19 29797.48828125\n"
     ]
    }
   ],
   "source": [
    "for epoch in range(20):\n",
    "  hypothesis = model(x_train)\n",
    "  cost = criterion(hypothesis,y_train)\n",
    "  optimizer.zero_grad()\n",
    "  cost.backward()\n",
    "  optimizer.step()\n",
    "  print(epoch, cost.item())"
   ]
  },
  {
   "cell_type": "markdown",
   "metadata": {
    "id": "iWvOdeFLNSr8"
   },
   "source": [
    "# Drop Out"
   ]
  },
  {
   "cell_type": "code",
   "execution_count": 9,
   "metadata": {
    "executionInfo": {
     "elapsed": 947,
     "status": "ok",
     "timestamp": 1665055109101,
     "user": {
      "displayName": "김혁",
      "userId": "04473511717812345033"
     },
     "user_tz": -540
    },
    "id": "PEs-DCWaedvl"
   },
   "outputs": [],
   "source": [
    "import torch\n",
    "from torch import nn, optim\n",
    "from torch.utils.data import TensorDataset, DataLoader\n",
    "# 데이터를 훈련용과 테스트용으로 분리\n",
    "from sklearn.datasets import load_digits\n",
    "from sklearn.model_selection import train_test_split\n",
    "from tqdm import tqdm\n",
    "from torchsummary import summary\n",
    "import matplotlib.pyplot as plt\n",
    "\n",
    "# 전체의 20%는 검증용\n",
    "digits = load_digits()\n",
    "X = digits.data\n",
    "Y = digits.target\n",
    "X_train, X_test, Y_train, Y_test = train_test_split(X, Y, test_size = 0.2)\n",
    "\n",
    "X_train = torch.tensor(X_train, dtype=torch.float32).to(device)\n",
    "Y_train = torch.tensor(Y_train, dtype=torch.int64).to(device)\n",
    "X_test = torch.tensor(X_test, dtype=torch.float32).to(device)\n",
    "Y_test = torch.tensor(Y_test, dtype=torch.int64).to(device)"
   ]
  },
  {
   "cell_type": "code",
   "execution_count": 10,
   "metadata": {
    "executionInfo": {
     "elapsed": 5,
     "status": "ok",
     "timestamp": 1665055109102,
     "user": {
      "displayName": "김혁",
      "userId": "04473511717812345033"
     },
     "user_tz": -540
    },
    "id": "3PqfeWHcenAH"
   },
   "outputs": [],
   "source": [
    "linear1 = torch.nn.Linear(64,100,bias=True)\n",
    "linear2 = torch.nn.Linear(100,100,bias=True)\n",
    "linear3 = torch.nn.Linear(100,100,bias=True)\n",
    "linear4 = torch.nn.Linear(100,100,bias=True)\n",
    "linear5 = torch.nn.Linear(100,10,bias=True)\n",
    "relu = torch.nn.ReLU()\n",
    "dropout = torch.nn.Dropout(0.5)\n",
    "batch = torch.nn.BatchNorm1d(100)"
   ]
  },
  {
   "cell_type": "code",
   "execution_count": 11,
   "metadata": {
    "executionInfo": {
     "elapsed": 4,
     "status": "ok",
     "timestamp": 1665055109102,
     "user": {
      "displayName": "김혁",
      "userId": "04473511717812345033"
     },
     "user_tz": -540
    },
    "id": "qfVLSSv88xwL"
   },
   "outputs": [],
   "source": [
    "from torch.nn.modules import linear\n",
    "model1 = torch.nn.Sequential(linear1,relu,linear2,relu,linear3,relu,linear4,relu,linear5).to(device)"
   ]
  },
  {
   "cell_type": "code",
   "execution_count": 12,
   "metadata": {
    "executionInfo": {
     "elapsed": 792,
     "status": "ok",
     "timestamp": 1665055109890,
     "user": {
      "displayName": "김혁",
      "userId": "04473511717812345033"
     },
     "user_tz": -540
    },
    "id": "npTZi6ko9OBx"
   },
   "outputs": [],
   "source": [
    "lossFunc = torch.nn.CrossEntropyLoss()\n",
    "optimizer = torch.optim.Adam(model1.parameters())\n",
    "ds = TensorDataset(X_train,Y_train)\n",
    "loader = DataLoader(ds,batch_size= 32, shuffle = True)\n",
    "trainLosses= []\n",
    "testLosses = []"
   ]
  },
  {
   "cell_type": "code",
   "execution_count": null,
   "metadata": {
    "id": "6OPsdZoTBm_1"
   },
   "outputs": [],
   "source": []
  },
  {
   "cell_type": "code",
   "execution_count": 13,
   "metadata": {
    "colab": {
     "base_uri": "https://localhost:8080/",
     "height": 301
    },
    "executionInfo": {
     "elapsed": 14061,
     "status": "ok",
     "timestamp": 1665055123943,
     "user": {
      "displayName": "김혁",
      "userId": "04473511717812345033"
     },
     "user_tz": -540
    },
    "id": "jJ_jmYSs9p4u",
    "outputId": "d5ec5497-39f5-468f-b927-ac5180bf9b44"
   },
   "outputs": [
    {
     "name": "stderr",
     "output_type": "stream",
     "text": [
      "100%|██████████| 100/100 [00:14<00:00,  7.14it/s]\n"
     ]
    },
    {
     "data": {
      "text/plain": [
       "[<matplotlib.lines.Line2D at 0x7f58bade2590>]"
      ]
     },
     "execution_count": 13,
     "metadata": {},
     "output_type": "execute_result"
    },
    {
     "data": {
      "image/png": "[encoded data removed]",
      "text/plain": [
       "<Figure size 432x288 with 1 Axes>"
      ]
     },
     "metadata": {
      "needs_background": "light"
     },
     "output_type": "display_data"
    }
   ],
   "source": [
    "for epoch in tqdm(range(100)):\n",
    "  runningLoss = 0.0\n",
    "  model1.train()\n",
    "  for i , (batchX,batchY) in enumerate(loader):\n",
    "    optimizer.zero_grad()\n",
    "    yPred = model1(batchX)\n",
    "    loss = lossFunc(yPred, batchY)\n",
    "    loss.backward()\n",
    "    optimizer.step()\n",
    "    runningLoss += loss.item()\n",
    "  \n",
    "\n",
    "  trainLosses.append(runningLoss/i)\n",
    "  model1.eval()\n",
    "  yPred = model1(X_test)\n",
    "  testLoss = lossFunc(yPred, Y_test)\n",
    "  testLosses.append(testLoss.item())\n",
    "\n",
    "plt.plot(range(100),trainLosses,label = 'train_loss')\n",
    "\n",
    "plt.plot(range(100),testLosses,label = 'test_loss')"
   ]
  },
  {
   "cell_type": "code",
   "execution_count": 15,
   "metadata": {
    "colab": {
     "base_uri": "https://localhost:8080/"
    },
    "executionInfo": {
     "elapsed": 389,
     "status": "ok",
     "timestamp": 1665055161801,
     "user": {
      "displayName": "김혁",
      "userId": "04473511717812345033"
     },
     "user_tz": -540
    },
    "id": "qdFeoH5LAmCC",
    "outputId": "98aa134a-e811-43e2-f337-2130ddc2e2bb"
   },
   "outputs": [
    {
     "name": "stdout",
     "output_type": "stream",
     "text": [
      "[1.3270812325856902, 0.30433583225716243, 0.20467178244143724, 0.13489921657707205, 0.08990736140615561, 0.07457416667602956, 0.06530701741576195, 0.05239306499292566, 0.024353758643635294, 0.02169909980148077, 0.010736411762825976, 0.012258646004325286, 0.008510512772111477, 0.034720662764315915, 0.045487566534906036, 0.03672718506608031, 0.02233458813068203, 0.011151946024752264, 0.002221023545809492, 0.0012321708013173934, 0.0010306342426867393, 0.0007639021306121405, 0.0006133818546500565, 0.0005273036557065842, 0.0004590921812037281, 0.00040061955256863837, 0.0003576729424036206, 0.0003168118511935476, 0.0002827650219346238, 0.0002615957088313404, 0.00023530538022565781, 0.00020993681729661066, 0.00019280932896105117, 0.00017882478699572278, 0.00016687420657035545, 0.00015059433673575933, 0.00014213017588686356, 0.00012761421579522323, 0.00011966616330028046, 0.00010978529307563308, 0.00010466880731159604, 9.645394329089123e-05, 9.148719777840597e-05, 8.363810051874184e-05, 8.08200273302811e-05, 7.269936988698397e-05, 7.025159793143261e-05, 6.596613614171723e-05, 6.13374911557168e-05, 6.009824549189282e-05, 5.470238846266346e-05, 5.283141315844246e-05, 4.8713305080706384e-05, 4.615340820376704e-05, 4.442488704564146e-05, 4.3242464140679324e-05, 4.10420354548726e-05, 3.8546569654003676e-05, 3.599422292278508e-05, 3.330924639302876e-05, 3.182588102132203e-05, 3.037929816814126e-05, 2.736282366103379e-05, 2.6033883691086018e-05, 2.468874217501335e-05, 2.3440384345783308e-05, 2.2206750122160717e-05, 2.1182477656690356e-05, 1.978418361855719e-05, 1.9090279963052126e-05, 1.812828889249183e-05, 1.7029446336313082e-05, 1.632958828746599e-05, 1.556983938981334e-05, 1.4999615723871267e-05, 1.4012307540864102e-05, 1.3471133100169523e-05, 1.2951425436437024e-05, 1.2425794151030542e-05, 1.1866932102190152e-05, 1.1475125984619892e-05, 1.1066217753223514e-05, 1.0657780917840269e-05, 1.0097390194439207e-05, 9.703841894551344e-06, 9.389307357630308e-06, 9.029693323079549e-06, 8.739378568055724e-06, 8.465476805693841e-06, 8.10935064908914e-06, 7.715768354253008e-06, 7.4313956133018815e-06, 7.233346566563754e-06, 6.902949475382704e-06, 6.73690449495077e-06, 6.589388466628841e-06, 6.319540203459827e-06, 6.180583056902833e-06, 5.774447864516994e-06, 5.639046852579099e-06]\n"
     ]
    }
   ],
   "source": [
    "print(trainLosses)"
   ]
  },
  {
   "cell_type": "code",
   "execution_count": 17,
   "metadata": {
    "executionInfo": {
     "elapsed": 573,
     "status": "ok",
     "timestamp": 1665055250130,
     "user": {
      "displayName": "김혁",
      "userId": "04473511717812345033"
     },
     "user_tz": -540
    },
    "id": "SXjV52IaBXx8"
   },
   "outputs": [],
   "source": [
    "model1 = torch.nn.Sequential(linear1,relu,dropout,linear2,relu,dropout,linear3,relu,dropout,linear4,relu,dropout,linear5).to(device)"
   ]
  },
  {
   "cell_type": "code",
   "execution_count": 18,
   "metadata": {
    "executionInfo": {
     "elapsed": 6,
     "status": "ok",
     "timestamp": 1665055250662,
     "user": {
      "displayName": "김혁",
      "userId": "04473511717812345033"
     },
     "user_tz": -540
    },
    "id": "TfWgLoxABokT"
   },
   "outputs": [],
   "source": [
    "lossFunc = torch.nn.CrossEntropyLoss()\n",
    "optimizer = torch.optim.Adam(model1.parameters())\n",
    "ds = TensorDataset(X_train,Y_train)\n",
    "loader = DataLoader(ds,batch_size= 32, shuffle = True)\n",
    "trainLosses= []\n",
    "testLosses = []"
   ]
  },
  {
   "cell_type": "code",
   "execution_count": 19,
   "metadata": {
    "colab": {
     "base_uri": "https://localhost:8080/",
     "height": 301
    },
    "executionInfo": {
     "elapsed": 12268,
     "status": "ok",
     "timestamp": 1665055262925,
     "user": {
      "displayName": "김혁",
      "userId": "04473511717812345033"
     },
     "user_tz": -540
    },
    "id": "UKohHljfBpUu",
    "outputId": "2abe4d18-f9d1-4e90-e7bf-d3c01b842c28"
   },
   "outputs": [
    {
     "name": "stderr",
     "output_type": "stream",
     "text": [
      "100%|██████████| 100/100 [00:12<00:00,  8.07it/s]\n"
     ]
    },
    {
     "data": {
      "text/plain": [
       "[<matplotlib.lines.Line2D at 0x7f58b1375f10>]"
      ]
     },
     "execution_count": 19,
     "metadata": {},
     "output_type": "execute_result"
    },
    {
     "data": {
      "image/png": "[encoded data removed]",
      "text/plain": [
       "<Figure size 432x288 with 1 Axes>"
      ]
     },
     "metadata": {
      "needs_background": "light"
     },
     "output_type": "display_data"
    }
   ],
   "source": [
    "for epoch in tqdm(range(100)):\n",
    "  runningLoss = 0.0\n",
    "  model1.train()\n",
    "  for i , (batchX,batchY) in enumerate(loader):\n",
    "    optimizer.zero_grad()\n",
    "    yPred = model1(batchX)\n",
    "    loss = lossFunc(yPred, batchY)\n",
    "    loss.backward()\n",
    "    optimizer.step()\n",
    "    runningLoss += loss.item()\n",
    "  \n",
    "\n",
    "  trainLosses.append(runningLoss/i)\n",
    "  model1.eval()\n",
    "  yPred = model1(X_test)\n",
    "  testLoss = lossFunc(yPred, Y_test)\n",
    "  testLosses.append(testLoss.item())\n",
    "\n",
    "plt.plot(range(100),trainLosses,label = 'train_loss')\n",
    "\n",
    "plt.plot(range(100),testLosses,label = 'test_loss')"
   ]
  },
  {
   "cell_type": "code",
   "execution_count": 22,
   "metadata": {
    "colab": {
     "base_uri": "https://localhost:8080/"
    },
    "executionInfo": {
     "elapsed": 426,
     "status": "ok",
     "timestamp": 1665055305767,
     "user": {
      "displayName": "김혁",
      "userId": "04473511717812345033"
     },
     "user_tz": -540
    },
    "id": "yvu2nWIqBw-B",
    "outputId": "f1558927-990b-4df2-da65-25c4ba963983"
   },
   "outputs": [
    {
     "name": "stdout",
     "output_type": "stream",
     "text": [
      "----------------------------------------------------------------\n",
      "        Layer (type)               Output Shape         Param #\n",
      "================================================================\n",
      "            Linear-1                  [-1, 100]           6,500\n",
      "              ReLU-2                  [-1, 100]               0\n",
      "           Dropout-3                  [-1, 100]               0\n",
      "            Linear-4                  [-1, 100]          10,100\n",
      "              ReLU-5                  [-1, 100]               0\n",
      "           Dropout-6                  [-1, 100]               0\n",
      "            Linear-7                  [-1, 100]          10,100\n",
      "              ReLU-8                  [-1, 100]               0\n",
      "           Dropout-9                  [-1, 100]               0\n",
      "           Linear-10                  [-1, 100]          10,100\n",
      "             ReLU-11                  [-1, 100]               0\n",
      "          Dropout-12                  [-1, 100]               0\n",
      "           Linear-13                   [-1, 10]           1,010\n",
      "================================================================\n",
      "Total params: 37,810\n",
      "Trainable params: 37,810\n",
      "Non-trainable params: 0\n",
      "----------------------------------------------------------------\n",
      "Input size (MB): 0.00\n",
      "Forward/backward pass size (MB): 0.01\n",
      "Params size (MB): 0.14\n",
      "Estimated Total Size (MB): 0.15\n",
      "----------------------------------------------------------------\n"
     ]
    }
   ],
   "source": [
    "summary(model.to(device),(64,))"
   ]
  },
  {
   "cell_type": "markdown",
   "metadata": {
    "id": "H9ePhNy6ed6o"
   },
   "source": [
    "# Batch Normalization"
   ]
  },
  {
   "cell_type": "code",
   "execution_count": 25,
   "metadata": {
    "executionInfo": {
     "elapsed": 702,
     "status": "ok",
     "timestamp": 1665055372103,
     "user": {
      "displayName": "김혁",
      "userId": "04473511717812345033"
     },
     "user_tz": -540
    },
    "id": "DiuhwUmX9pbD"
   },
   "outputs": [],
   "source": [
    "model1 = torch.nn.Sequential(linear1,relu,batch,dropout,linear2,relu,batch,dropout,linear3,relu,batch,dropout,linear4,relu,batch,dropout,linear5).to(device)"
   ]
  },
  {
   "cell_type": "code",
   "execution_count": null,
   "metadata": {
    "id": "brUEcFbDCT0p"
   },
   "outputs": [],
   "source": []
  },
  {
   "cell_type": "code",
   "execution_count": 27,
   "metadata": {
    "colab": {
     "base_uri": "https://localhost:8080/"
    },
    "executionInfo": {
     "elapsed": 380,
     "status": "ok",
     "timestamp": 1665055411037,
     "user": {
      "displayName": "김혁",
      "userId": "04473511717812345033"
     },
     "user_tz": -540
    },
    "id": "CpLXsHwh9NXZ",
    "outputId": "cef25e7e-9747-404a-c0b3-e5479d8e5f2a"
   },
   "outputs": [
    {
     "name": "stdout",
     "output_type": "stream",
     "text": [
      "----------------------------------------------------------------\n",
      "        Layer (type)               Output Shape         Param #\n",
      "================================================================\n",
      "            Linear-1                  [-1, 100]           6,500\n",
      "              ReLU-2                  [-1, 100]               0\n",
      "           Dropout-3                  [-1, 100]               0\n",
      "            Linear-4                  [-1, 100]          10,100\n",
      "              ReLU-5                  [-1, 100]               0\n",
      "           Dropout-6                  [-1, 100]               0\n",
      "            Linear-7                  [-1, 100]          10,100\n",
      "              ReLU-8                  [-1, 100]               0\n",
      "           Dropout-9                  [-1, 100]               0\n",
      "           Linear-10                  [-1, 100]          10,100\n",
      "             ReLU-11                  [-1, 100]               0\n",
      "          Dropout-12                  [-1, 100]               0\n",
      "           Linear-13                   [-1, 10]           1,010\n",
      "================================================================\n",
      "Total params: 37,810\n",
      "Trainable params: 37,810\n",
      "Non-trainable params: 0\n",
      "----------------------------------------------------------------\n",
      "Input size (MB): 0.00\n",
      "Forward/backward pass size (MB): 0.01\n",
      "Params size (MB): 0.14\n",
      "Estimated Total Size (MB): 0.15\n",
      "----------------------------------------------------------------\n"
     ]
    }
   ],
   "source": [
    "summary(model.to(device),(64,))"
   ]
  },
  {
   "cell_type": "code",
   "execution_count": 28,
   "metadata": {
    "colab": {
     "base_uri": "https://localhost:8080/",
     "height": 684
    },
    "executionInfo": {
     "elapsed": 16187,
     "status": "error",
     "timestamp": 1665055430315,
     "user": {
      "displayName": "김혁",
      "userId": "04473511717812345033"
     },
     "user_tz": -540
    },
    "id": "8mhwnpN8eg1H",
    "outputId": "5edfccc2-1972-4f51-fb58-9756eaf64079"
   },
   "outputs": [
    {
     "name": "stderr",
     "output_type": "stream",
     "text": [
      "100%|██████████| 100/100 [00:15<00:00,  6.42it/s]\n"
     ]
    },
    {
     "ename": "ValueError",
     "evalue": "ignored",
     "output_type": "error",
     "traceback": [
      "\u001b[0;31m---------------------------------------------------------------------------\u001b[0m",
      "\u001b[0;31mValueError\u001b[0m                                Traceback (most recent call last)",
      "\u001b[0;32m<ipython-input-28-e3c3a3277a2a>\u001b[0m in \u001b[0;36m<module>\u001b[0;34m\u001b[0m\n\u001b[1;32m     17\u001b[0m   \u001b[0mtestLosses\u001b[0m\u001b[0;34m.\u001b[0m\u001b[0mappend\u001b[0m\u001b[0;34m(\u001b[0m\u001b[0mtestLoss\u001b[0m\u001b[0;34m.\u001b[0m\u001b[0mitem\u001b[0m\u001b[0;34m(\u001b[0m\u001b[0;34m)\u001b[0m\u001b[0;34m)\u001b[0m\u001b[0;34m\u001b[0m\u001b[0;34m\u001b[0m\u001b[0m\n\u001b[1;32m     18\u001b[0m \u001b[0;34m\u001b[0m\u001b[0m\n\u001b[0;32m---> 19\u001b[0;31m \u001b[0mplt\u001b[0m\u001b[0;34m.\u001b[0m\u001b[0mplot\u001b[0m\u001b[0;34m(\u001b[0m\u001b[0mrange\u001b[0m\u001b[0;34m(\u001b[0m\u001b[0;36m100\u001b[0m\u001b[0;34m)\u001b[0m\u001b[0;34m,\u001b[0m\u001b[0mtrainLosses\u001b[0m\u001b[0;34m,\u001b[0m\u001b[0mlabel\u001b[0m \u001b[0;34m=\u001b[0m \u001b[0;34m'train_loss'\u001b[0m\u001b[0;34m)\u001b[0m\u001b[0;34m\u001b[0m\u001b[0;34m\u001b[0m\u001b[0m\n\u001b[0m\u001b[1;32m     20\u001b[0m \u001b[0;34m\u001b[0m\u001b[0m\n\u001b[1;32m     21\u001b[0m \u001b[0mplt\u001b[0m\u001b[0;34m.\u001b[0m\u001b[0mplot\u001b[0m\u001b[0;34m(\u001b[0m\u001b[0mrange\u001b[0m\u001b[0;34m(\u001b[0m\u001b[0;36m100\u001b[0m\u001b[0;34m)\u001b[0m\u001b[0;34m,\u001b[0m\u001b[0mtestLosses\u001b[0m\u001b[0;34m,\u001b[0m\u001b[0mlabel\u001b[0m \u001b[0;34m=\u001b[0m \u001b[0;34m'test_loss'\u001b[0m\u001b[0;34m)\u001b[0m\u001b[0;34m\u001b[0m\u001b[0;34m\u001b[0m\u001b[0m\n",
      "\u001b[0;32m/usr/local/lib/python3.7/dist-packages/matplotlib/pyplot.py\u001b[0m in \u001b[0;36mplot\u001b[0;34m(scalex, scaley, data, *args, **kwargs)\u001b[0m\n\u001b[1;32m   2761\u001b[0m     return gca().plot(\n\u001b[1;32m   2762\u001b[0m         *args, scalex=scalex, scaley=scaley, **({\"data\": data} if data\n\u001b[0;32m-> 2763\u001b[0;31m         is not None else {}), **kwargs)\n\u001b[0m\u001b[1;32m   2764\u001b[0m \u001b[0;34m\u001b[0m\u001b[0m\n\u001b[1;32m   2765\u001b[0m \u001b[0;34m\u001b[0m\u001b[0m\n",
      "\u001b[0;32m/usr/local/lib/python3.7/dist-packages/matplotlib/axes/_axes.py\u001b[0m in \u001b[0;36mplot\u001b[0;34m(self, scalex, scaley, data, *args, **kwargs)\u001b[0m\n\u001b[1;32m   1645\u001b[0m         \"\"\"\n\u001b[1;32m   1646\u001b[0m         \u001b[0mkwargs\u001b[0m \u001b[0;34m=\u001b[0m \u001b[0mcbook\u001b[0m\u001b[0;34m.\u001b[0m\u001b[0mnormalize_kwargs\u001b[0m\u001b[0;34m(\u001b[0m\u001b[0mkwargs\u001b[0m\u001b[0;34m,\u001b[0m \u001b[0mmlines\u001b[0m\u001b[0;34m.\u001b[0m\u001b[0mLine2D\u001b[0m\u001b[0;34m)\u001b[0m\u001b[0;34m\u001b[0m\u001b[0;34m\u001b[0m\u001b[0m\n\u001b[0;32m-> 1647\u001b[0;31m         \u001b[0mlines\u001b[0m \u001b[0;34m=\u001b[0m \u001b[0;34m[\u001b[0m\u001b[0;34m*\u001b[0m\u001b[0mself\u001b[0m\u001b[0;34m.\u001b[0m\u001b[0m_get_lines\u001b[0m\u001b[0;34m(\u001b[0m\u001b[0;34m*\u001b[0m\u001b[0margs\u001b[0m\u001b[0;34m,\u001b[0m \u001b[0mdata\u001b[0m\u001b[0;34m=\u001b[0m\u001b[0mdata\u001b[0m\u001b[0;34m,\u001b[0m \u001b[0;34m**\u001b[0m\u001b[0mkwargs\u001b[0m\u001b[0;34m)\u001b[0m\u001b[0;34m]\u001b[0m\u001b[0;34m\u001b[0m\u001b[0;34m\u001b[0m\u001b[0m\n\u001b[0m\u001b[1;32m   1648\u001b[0m         \u001b[0;32mfor\u001b[0m \u001b[0mline\u001b[0m \u001b[0;32min\u001b[0m \u001b[0mlines\u001b[0m\u001b[0;34m:\u001b[0m\u001b[0;34m\u001b[0m\u001b[0;34m\u001b[0m\u001b[0m\n\u001b[1;32m   1649\u001b[0m             \u001b[0mself\u001b[0m\u001b[0;34m.\u001b[0m\u001b[0madd_line\u001b[0m\u001b[0;34m(\u001b[0m\u001b[0mline\u001b[0m\u001b[0;34m)\u001b[0m\u001b[0;34m\u001b[0m\u001b[0;34m\u001b[0m\u001b[0m\n",
      "\u001b[0;32m/usr/local/lib/python3.7/dist-packages/matplotlib/axes/_base.py\u001b[0m in \u001b[0;36m__call__\u001b[0;34m(self, *args, **kwargs)\u001b[0m\n\u001b[1;32m    214\u001b[0m                 \u001b[0mthis\u001b[0m \u001b[0;34m+=\u001b[0m \u001b[0margs\u001b[0m\u001b[0;34m[\u001b[0m\u001b[0;36m0\u001b[0m\u001b[0;34m]\u001b[0m\u001b[0;34m,\u001b[0m\u001b[0;34m\u001b[0m\u001b[0;34m\u001b[0m\u001b[0m\n\u001b[1;32m    215\u001b[0m                 \u001b[0margs\u001b[0m \u001b[0;34m=\u001b[0m \u001b[0margs\u001b[0m\u001b[0;34m[\u001b[0m\u001b[0;36m1\u001b[0m\u001b[0;34m:\u001b[0m\u001b[0;34m]\u001b[0m\u001b[0;34m\u001b[0m\u001b[0;34m\u001b[0m\u001b[0m\n\u001b[0;32m--> 216\u001b[0;31m             \u001b[0;32myield\u001b[0m \u001b[0;32mfrom\u001b[0m \u001b[0mself\u001b[0m\u001b[0;34m.\u001b[0m\u001b[0m_plot_args\u001b[0m\u001b[0;34m(\u001b[0m\u001b[0mthis\u001b[0m\u001b[0;34m,\u001b[0m \u001b[0mkwargs\u001b[0m\u001b[0;34m)\u001b[0m\u001b[0;34m\u001b[0m\u001b[0;34m\u001b[0m\u001b[0m\n\u001b[0m\u001b[1;32m    217\u001b[0m \u001b[0;34m\u001b[0m\u001b[0m\n\u001b[1;32m    218\u001b[0m     \u001b[0;32mdef\u001b[0m \u001b[0mget_next_color\u001b[0m\u001b[0;34m(\u001b[0m\u001b[0mself\u001b[0m\u001b[0;34m)\u001b[0m\u001b[0;34m:\u001b[0m\u001b[0;34m\u001b[0m\u001b[0;34m\u001b[0m\u001b[0m\n",
      "\u001b[0;32m/usr/local/lib/python3.7/dist-packages/matplotlib/axes/_base.py\u001b[0m in \u001b[0;36m_plot_args\u001b[0;34m(self, tup, kwargs)\u001b[0m\n\u001b[1;32m    340\u001b[0m \u001b[0;34m\u001b[0m\u001b[0m\n\u001b[1;32m    341\u001b[0m         \u001b[0;32mif\u001b[0m \u001b[0mx\u001b[0m\u001b[0;34m.\u001b[0m\u001b[0mshape\u001b[0m\u001b[0;34m[\u001b[0m\u001b[0;36m0\u001b[0m\u001b[0;34m]\u001b[0m \u001b[0;34m!=\u001b[0m \u001b[0my\u001b[0m\u001b[0;34m.\u001b[0m\u001b[0mshape\u001b[0m\u001b[0;34m[\u001b[0m\u001b[0;36m0\u001b[0m\u001b[0;34m]\u001b[0m\u001b[0;34m:\u001b[0m\u001b[0;34m\u001b[0m\u001b[0;34m\u001b[0m\u001b[0m\n\u001b[0;32m--> 342\u001b[0;31m             raise ValueError(f\"x and y must have same first dimension, but \"\n\u001b[0m\u001b[1;32m    343\u001b[0m                              f\"have shapes {x.shape} and {y.shape}\")\n\u001b[1;32m    344\u001b[0m         \u001b[0;32mif\u001b[0m \u001b[0mx\u001b[0m\u001b[0;34m.\u001b[0m\u001b[0mndim\u001b[0m \u001b[0;34m>\u001b[0m \u001b[0;36m2\u001b[0m \u001b[0;32mor\u001b[0m \u001b[0my\u001b[0m\u001b[0;34m.\u001b[0m\u001b[0mndim\u001b[0m \u001b[0;34m>\u001b[0m \u001b[0;36m2\u001b[0m\u001b[0;34m:\u001b[0m\u001b[0;34m\u001b[0m\u001b[0;34m\u001b[0m\u001b[0m\n",
      "\u001b[0;31mValueError\u001b[0m: x and y must have same first dimension, but have shapes (100,) and (200,)"
     ]
    },
    {
     "data": {
      "image/png": "[encoded data removed]",
      "text/plain": [
       "<Figure size 432x288 with 1 Axes>"
      ]
     },
     "metadata": {
      "needs_background": "light"
     },
     "output_type": "display_data"
    }
   ],
   "source": [
    "for epoch in tqdm(range(100)):\n",
    "  runningLoss = 0.0\n",
    "  model1.train()\n",
    "  for i , (batchX,batchY) in enumerate(loader):\n",
    "    optimizer.zero_grad()\n",
    "    yPred = model1(batchX)\n",
    "    loss = lossFunc(yPred, batchY)\n",
    "    loss.backward()\n",
    "    optimizer.step()\n",
    "    runningLoss += loss.item()\n",
    "  \n",
    "\n",
    "  trainLosses.append(runningLoss/i)\n",
    "  model1.eval()\n",
    "  yPred = model1(X_test)\n",
    "  testLoss = lossFunc(yPred, Y_test)\n",
    "  testLosses.append(testLoss.item())\n",
    "\n",
    "plt.plot(range(100),trainLosses,label = 'train_loss')\n",
    "\n",
    "plt.plot(range(100),testLosses,label = 'test_loss')"
   ]
  },
  {
   "cell_type": "markdown",
   "metadata": {
    "id": "BunOC1d3bgHu"
   },
   "source": [
    "# weight initialization"
   ]
  },
  {
   "cell_type": "code",
   "execution_count": 29,
   "metadata": {
    "colab": {
     "base_uri": "https://localhost:8080/"
    },
    "executionInfo": {
     "elapsed": 333,
     "status": "ok",
     "timestamp": 1665055452906,
     "user": {
      "displayName": "김혁",
      "userId": "04473511717812345033"
     },
     "user_tz": -540
    },
    "id": "zG9zYzKybk8y",
    "outputId": "f9d1036b-2a31-4737-8500-f3a8d46d0553"
   },
   "outputs": [
    {
     "data": {
      "text/plain": [
       "Parameter containing:\n",
       "tensor([[ 0.1278,  0.1480,  0.0452,  ...,  0.1691, -0.1038,  0.0080],\n",
       "        [ 0.1848,  0.1780,  0.0164,  ...,  0.1512, -0.1117,  0.1663],\n",
       "        [ 0.1899, -0.1335, -0.1330,  ..., -0.1169,  0.1828,  0.0125],\n",
       "        ...,\n",
       "        [-0.1254,  0.1171, -0.1290,  ..., -0.0265, -0.0604, -0.1240],\n",
       "        [-0.0576, -0.1510, -0.1909,  ..., -0.0928, -0.0906,  0.0447],\n",
       "        [-0.1126,  0.0703, -0.1197,  ...,  0.0989, -0.1841,  0.1068]],\n",
       "       device='cuda:0', requires_grad=True)"
      ]
     },
     "execution_count": 29,
     "metadata": {},
     "output_type": "execute_result"
    }
   ],
   "source": [
    "torch.nn.init.xavier_uniform_(linear1.weight)"
   ]
  },
  {
   "cell_type": "code",
   "execution_count": null,
   "metadata": {
    "id": "sHn_G0YrCeo9"
   },
   "outputs": [],
   "source": []
  }
 ],
 "metadata": {
  "accelerator": "GPU",
  "colab": {
   "collapsed_sections": [],
   "provenance": []
  },
  "gpuClass": "standard",
  "kernelspec": {
   "display_name": "Python 3 (ipykernel)",
   "language": "python",
   "name": "python3"
  },
  "language_info": {
   "codemirror_mode": {
    "name": "ipython",
    "version": 3
   },
   "file_extension": ".py",
   "mimetype": "text/x-python",
   "name": "python",
   "nbconvert_exporter": "python",
   "pygments_lexer": "ipython3",
   "version": "3.9.12"
  }
 },
 "nbformat": 4,
 "nbformat_minor": 1
}
