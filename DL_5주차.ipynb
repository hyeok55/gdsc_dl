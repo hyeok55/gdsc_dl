{
  "nbformat": 4,
  "nbformat_minor": 0,
  "metadata": {
    "colab": {
      "provenance": []
    },
    "kernelspec": {
      "name": "python3",
      "display_name": "Python 3"
    },
    "language_info": {
      "name": "python"
    },
    "widgets": {
      "application/vnd.jupyter.widget-state+json": {
        "7e87d5d142e74cd18d89a2606125d3b9": {
          "model_module": "@jupyter-widgets/controls",
          "model_name": "HBoxModel",
          "model_module_version": "1.5.0",
          "state": {
            "_dom_classes": [],
            "_model_module": "@jupyter-widgets/controls",
            "_model_module_version": "1.5.0",
            "_model_name": "HBoxModel",
            "_view_count": null,
            "_view_module": "@jupyter-widgets/controls",
            "_view_module_version": "1.5.0",
            "_view_name": "HBoxView",
            "box_style": "",
            "children": [
              "IPY_MODEL_ec9585ec335640be8f5e4affec5613b5",
              "IPY_MODEL_b46c4661e5dc432198cd79daf78d9377",
              "IPY_MODEL_0e02241d64be4f668f1cf51e03b599dd"
            ],
            "layout": "IPY_MODEL_9e349512596a45fb93d8d6dfb0323e90"
          }
        },
        "ec9585ec335640be8f5e4affec5613b5": {
          "model_module": "@jupyter-widgets/controls",
          "model_name": "HTMLModel",
          "model_module_version": "1.5.0",
          "state": {
            "_dom_classes": [],
            "_model_module": "@jupyter-widgets/controls",
            "_model_module_version": "1.5.0",
            "_model_name": "HTMLModel",
            "_view_count": null,
            "_view_module": "@jupyter-widgets/controls",
            "_view_module_version": "1.5.0",
            "_view_name": "HTMLView",
            "description": "",
            "description_tooltip": null,
            "layout": "IPY_MODEL_d495d13cb6834fb5b4b10d0f5216a1cf",
            "placeholder": "​",
            "style": "IPY_MODEL_6e4d37c49a8e4dfd82a7e4cd24a5cdf7",
            "value": "100%"
          }
        },
        "b46c4661e5dc432198cd79daf78d9377": {
          "model_module": "@jupyter-widgets/controls",
          "model_name": "FloatProgressModel",
          "model_module_version": "1.5.0",
          "state": {
            "_dom_classes": [],
            "_model_module": "@jupyter-widgets/controls",
            "_model_module_version": "1.5.0",
            "_model_name": "FloatProgressModel",
            "_view_count": null,
            "_view_module": "@jupyter-widgets/controls",
            "_view_module_version": "1.5.0",
            "_view_name": "ProgressView",
            "bar_style": "success",
            "description": "",
            "description_tooltip": null,
            "layout": "IPY_MODEL_3b828a525d2d4e079fdeb2fde82974fc",
            "max": 9912422,
            "min": 0,
            "orientation": "horizontal",
            "style": "IPY_MODEL_44d1958172f24de9919bcabdda6dfa4d",
            "value": 9912422
          }
        },
        "0e02241d64be4f668f1cf51e03b599dd": {
          "model_module": "@jupyter-widgets/controls",
          "model_name": "HTMLModel",
          "model_module_version": "1.5.0",
          "state": {
            "_dom_classes": [],
            "_model_module": "@jupyter-widgets/controls",
            "_model_module_version": "1.5.0",
            "_model_name": "HTMLModel",
            "_view_count": null,
            "_view_module": "@jupyter-widgets/controls",
            "_view_module_version": "1.5.0",
            "_view_name": "HTMLView",
            "description": "",
            "description_tooltip": null,
            "layout": "IPY_MODEL_d3708925f55a4005b347d5dd57cfbe77",
            "placeholder": "​",
            "style": "IPY_MODEL_993626c820bc4a2a9cffa64674781db3",
            "value": " 9912422/9912422 [00:00&lt;00:00, 72445207.04it/s]"
          }
        },
        "9e349512596a45fb93d8d6dfb0323e90": {
          "model_module": "@jupyter-widgets/base",
          "model_name": "LayoutModel",
          "model_module_version": "1.2.0",
          "state": {
            "_model_module": "@jupyter-widgets/base",
            "_model_module_version": "1.2.0",
            "_model_name": "LayoutModel",
            "_view_count": null,
            "_view_module": "@jupyter-widgets/base",
            "_view_module_version": "1.2.0",
            "_view_name": "LayoutView",
            "align_content": null,
            "align_items": null,
            "align_self": null,
            "border": null,
            "bottom": null,
            "display": null,
            "flex": null,
            "flex_flow": null,
            "grid_area": null,
            "grid_auto_columns": null,
            "grid_auto_flow": null,
            "grid_auto_rows": null,
            "grid_column": null,
            "grid_gap": null,
            "grid_row": null,
            "grid_template_areas": null,
            "grid_template_columns": null,
            "grid_template_rows": null,
            "height": null,
            "justify_content": null,
            "justify_items": null,
            "left": null,
            "margin": null,
            "max_height": null,
            "max_width": null,
            "min_height": null,
            "min_width": null,
            "object_fit": null,
            "object_position": null,
            "order": null,
            "overflow": null,
            "overflow_x": null,
            "overflow_y": null,
            "padding": null,
            "right": null,
            "top": null,
            "visibility": null,
            "width": null
          }
        },
        "d495d13cb6834fb5b4b10d0f5216a1cf": {
          "model_module": "@jupyter-widgets/base",
          "model_name": "LayoutModel",
          "model_module_version": "1.2.0",
          "state": {
            "_model_module": "@jupyter-widgets/base",
            "_model_module_version": "1.2.0",
            "_model_name": "LayoutModel",
            "_view_count": null,
            "_view_module": "@jupyter-widgets/base",
            "_view_module_version": "1.2.0",
            "_view_name": "LayoutView",
            "align_content": null,
            "align_items": null,
            "align_self": null,
            "border": null,
            "bottom": null,
            "display": null,
            "flex": null,
            "flex_flow": null,
            "grid_area": null,
            "grid_auto_columns": null,
            "grid_auto_flow": null,
            "grid_auto_rows": null,
            "grid_column": null,
            "grid_gap": null,
            "grid_row": null,
            "grid_template_areas": null,
            "grid_template_columns": null,
            "grid_template_rows": null,
            "height": null,
            "justify_content": null,
            "justify_items": null,
            "left": null,
            "margin": null,
            "max_height": null,
            "max_width": null,
            "min_height": null,
            "min_width": null,
            "object_fit": null,
            "object_position": null,
            "order": null,
            "overflow": null,
            "overflow_x": null,
            "overflow_y": null,
            "padding": null,
            "right": null,
            "top": null,
            "visibility": null,
            "width": null
          }
        },
        "6e4d37c49a8e4dfd82a7e4cd24a5cdf7": {
          "model_module": "@jupyter-widgets/controls",
          "model_name": "DescriptionStyleModel",
          "model_module_version": "1.5.0",
          "state": {
            "_model_module": "@jupyter-widgets/controls",
            "_model_module_version": "1.5.0",
            "_model_name": "DescriptionStyleModel",
            "_view_count": null,
            "_view_module": "@jupyter-widgets/base",
            "_view_module_version": "1.2.0",
            "_view_name": "StyleView",
            "description_width": ""
          }
        },
        "3b828a525d2d4e079fdeb2fde82974fc": {
          "model_module": "@jupyter-widgets/base",
          "model_name": "LayoutModel",
          "model_module_version": "1.2.0",
          "state": {
            "_model_module": "@jupyter-widgets/base",
            "_model_module_version": "1.2.0",
            "_model_name": "LayoutModel",
            "_view_count": null,
            "_view_module": "@jupyter-widgets/base",
            "_view_module_version": "1.2.0",
            "_view_name": "LayoutView",
            "align_content": null,
            "align_items": null,
            "align_self": null,
            "border": null,
            "bottom": null,
            "display": null,
            "flex": null,
            "flex_flow": null,
            "grid_area": null,
            "grid_auto_columns": null,
            "grid_auto_flow": null,
            "grid_auto_rows": null,
            "grid_column": null,
            "grid_gap": null,
            "grid_row": null,
            "grid_template_areas": null,
            "grid_template_columns": null,
            "grid_template_rows": null,
            "height": null,
            "justify_content": null,
            "justify_items": null,
            "left": null,
            "margin": null,
            "max_height": null,
            "max_width": null,
            "min_height": null,
            "min_width": null,
            "object_fit": null,
            "object_position": null,
            "order": null,
            "overflow": null,
            "overflow_x": null,
            "overflow_y": null,
            "padding": null,
            "right": null,
            "top": null,
            "visibility": null,
            "width": null
          }
        },
        "44d1958172f24de9919bcabdda6dfa4d": {
          "model_module": "@jupyter-widgets/controls",
          "model_name": "ProgressStyleModel",
          "model_module_version": "1.5.0",
          "state": {
            "_model_module": "@jupyter-widgets/controls",
            "_model_module_version": "1.5.0",
            "_model_name": "ProgressStyleModel",
            "_view_count": null,
            "_view_module": "@jupyter-widgets/base",
            "_view_module_version": "1.2.0",
            "_view_name": "StyleView",
            "bar_color": null,
            "description_width": ""
          }
        },
        "d3708925f55a4005b347d5dd57cfbe77": {
          "model_module": "@jupyter-widgets/base",
          "model_name": "LayoutModel",
          "model_module_version": "1.2.0",
          "state": {
            "_model_module": "@jupyter-widgets/base",
            "_model_module_version": "1.2.0",
            "_model_name": "LayoutModel",
            "_view_count": null,
            "_view_module": "@jupyter-widgets/base",
            "_view_module_version": "1.2.0",
            "_view_name": "LayoutView",
            "align_content": null,
            "align_items": null,
            "align_self": null,
            "border": null,
            "bottom": null,
            "display": null,
            "flex": null,
            "flex_flow": null,
            "grid_area": null,
            "grid_auto_columns": null,
            "grid_auto_flow": null,
            "grid_auto_rows": null,
            "grid_column": null,
            "grid_gap": null,
            "grid_row": null,
            "grid_template_areas": null,
            "grid_template_columns": null,
            "grid_template_rows": null,
            "height": null,
            "justify_content": null,
            "justify_items": null,
            "left": null,
            "margin": null,
            "max_height": null,
            "max_width": null,
            "min_height": null,
            "min_width": null,
            "object_fit": null,
            "object_position": null,
            "order": null,
            "overflow": null,
            "overflow_x": null,
            "overflow_y": null,
            "padding": null,
            "right": null,
            "top": null,
            "visibility": null,
            "width": null
          }
        },
        "993626c820bc4a2a9cffa64674781db3": {
          "model_module": "@jupyter-widgets/controls",
          "model_name": "DescriptionStyleModel",
          "model_module_version": "1.5.0",
          "state": {
            "_model_module": "@jupyter-widgets/controls",
            "_model_module_version": "1.5.0",
            "_model_name": "DescriptionStyleModel",
            "_view_count": null,
            "_view_module": "@jupyter-widgets/base",
            "_view_module_version": "1.2.0",
            "_view_name": "StyleView",
            "description_width": ""
          }
        },
        "040bbe4480fa40e38c28d6c4d7659f68": {
          "model_module": "@jupyter-widgets/controls",
          "model_name": "HBoxModel",
          "model_module_version": "1.5.0",
          "state": {
            "_dom_classes": [],
            "_model_module": "@jupyter-widgets/controls",
            "_model_module_version": "1.5.0",
            "_model_name": "HBoxModel",
            "_view_count": null,
            "_view_module": "@jupyter-widgets/controls",
            "_view_module_version": "1.5.0",
            "_view_name": "HBoxView",
            "box_style": "",
            "children": [
              "IPY_MODEL_e0e62467f8f9423f922bd39a45103eb3",
              "IPY_MODEL_0d6c600e6a614e0398bd37d16c4dbc9c",
              "IPY_MODEL_caadfd1a96414bb7bb7e155d70acb6e0"
            ],
            "layout": "IPY_MODEL_ccad7e0ca8224829a98ad35e3ce7aaa2"
          }
        },
        "e0e62467f8f9423f922bd39a45103eb3": {
          "model_module": "@jupyter-widgets/controls",
          "model_name": "HTMLModel",
          "model_module_version": "1.5.0",
          "state": {
            "_dom_classes": [],
            "_model_module": "@jupyter-widgets/controls",
            "_model_module_version": "1.5.0",
            "_model_name": "HTMLModel",
            "_view_count": null,
            "_view_module": "@jupyter-widgets/controls",
            "_view_module_version": "1.5.0",
            "_view_name": "HTMLView",
            "description": "",
            "description_tooltip": null,
            "layout": "IPY_MODEL_d7c58c95b30347ca8465529b05c03b9e",
            "placeholder": "​",
            "style": "IPY_MODEL_a8e7c829a647454f98d5e989c2a917cb",
            "value": "100%"
          }
        },
        "0d6c600e6a614e0398bd37d16c4dbc9c": {
          "model_module": "@jupyter-widgets/controls",
          "model_name": "FloatProgressModel",
          "model_module_version": "1.5.0",
          "state": {
            "_dom_classes": [],
            "_model_module": "@jupyter-widgets/controls",
            "_model_module_version": "1.5.0",
            "_model_name": "FloatProgressModel",
            "_view_count": null,
            "_view_module": "@jupyter-widgets/controls",
            "_view_module_version": "1.5.0",
            "_view_name": "ProgressView",
            "bar_style": "success",
            "description": "",
            "description_tooltip": null,
            "layout": "IPY_MODEL_84e1c7edbb8d4da79fcd212e2187ad01",
            "max": 28881,
            "min": 0,
            "orientation": "horizontal",
            "style": "IPY_MODEL_c894147446cc4b849f0e5c9575408553",
            "value": 28881
          }
        },
        "caadfd1a96414bb7bb7e155d70acb6e0": {
          "model_module": "@jupyter-widgets/controls",
          "model_name": "HTMLModel",
          "model_module_version": "1.5.0",
          "state": {
            "_dom_classes": [],
            "_model_module": "@jupyter-widgets/controls",
            "_model_module_version": "1.5.0",
            "_model_name": "HTMLModel",
            "_view_count": null,
            "_view_module": "@jupyter-widgets/controls",
            "_view_module_version": "1.5.0",
            "_view_name": "HTMLView",
            "description": "",
            "description_tooltip": null,
            "layout": "IPY_MODEL_0de29c5f0aec44ffbda4afd65ffa21d2",
            "placeholder": "​",
            "style": "IPY_MODEL_f000c493c18e475e8d4bf52a903fa7f3",
            "value": " 28881/28881 [00:00&lt;00:00, 507136.73it/s]"
          }
        },
        "ccad7e0ca8224829a98ad35e3ce7aaa2": {
          "model_module": "@jupyter-widgets/base",
          "model_name": "LayoutModel",
          "model_module_version": "1.2.0",
          "state": {
            "_model_module": "@jupyter-widgets/base",
            "_model_module_version": "1.2.0",
            "_model_name": "LayoutModel",
            "_view_count": null,
            "_view_module": "@jupyter-widgets/base",
            "_view_module_version": "1.2.0",
            "_view_name": "LayoutView",
            "align_content": null,
            "align_items": null,
            "align_self": null,
            "border": null,
            "bottom": null,
            "display": null,
            "flex": null,
            "flex_flow": null,
            "grid_area": null,
            "grid_auto_columns": null,
            "grid_auto_flow": null,
            "grid_auto_rows": null,
            "grid_column": null,
            "grid_gap": null,
            "grid_row": null,
            "grid_template_areas": null,
            "grid_template_columns": null,
            "grid_template_rows": null,
            "height": null,
            "justify_content": null,
            "justify_items": null,
            "left": null,
            "margin": null,
            "max_height": null,
            "max_width": null,
            "min_height": null,
            "min_width": null,
            "object_fit": null,
            "object_position": null,
            "order": null,
            "overflow": null,
            "overflow_x": null,
            "overflow_y": null,
            "padding": null,
            "right": null,
            "top": null,
            "visibility": null,
            "width": null
          }
        },
        "d7c58c95b30347ca8465529b05c03b9e": {
          "model_module": "@jupyter-widgets/base",
          "model_name": "LayoutModel",
          "model_module_version": "1.2.0",
          "state": {
            "_model_module": "@jupyter-widgets/base",
            "_model_module_version": "1.2.0",
            "_model_name": "LayoutModel",
            "_view_count": null,
            "_view_module": "@jupyter-widgets/base",
            "_view_module_version": "1.2.0",
            "_view_name": "LayoutView",
            "align_content": null,
            "align_items": null,
            "align_self": null,
            "border": null,
            "bottom": null,
            "display": null,
            "flex": null,
            "flex_flow": null,
            "grid_area": null,
            "grid_auto_columns": null,
            "grid_auto_flow": null,
            "grid_auto_rows": null,
            "grid_column": null,
            "grid_gap": null,
            "grid_row": null,
            "grid_template_areas": null,
            "grid_template_columns": null,
            "grid_template_rows": null,
            "height": null,
            "justify_content": null,
            "justify_items": null,
            "left": null,
            "margin": null,
            "max_height": null,
            "max_width": null,
            "min_height": null,
            "min_width": null,
            "object_fit": null,
            "object_position": null,
            "order": null,
            "overflow": null,
            "overflow_x": null,
            "overflow_y": null,
            "padding": null,
            "right": null,
            "top": null,
            "visibility": null,
            "width": null
          }
        },
        "a8e7c829a647454f98d5e989c2a917cb": {
          "model_module": "@jupyter-widgets/controls",
          "model_name": "DescriptionStyleModel",
          "model_module_version": "1.5.0",
          "state": {
            "_model_module": "@jupyter-widgets/controls",
            "_model_module_version": "1.5.0",
            "_model_name": "DescriptionStyleModel",
            "_view_count": null,
            "_view_module": "@jupyter-widgets/base",
            "_view_module_version": "1.2.0",
            "_view_name": "StyleView",
            "description_width": ""
          }
        },
        "84e1c7edbb8d4da79fcd212e2187ad01": {
          "model_module": "@jupyter-widgets/base",
          "model_name": "LayoutModel",
          "model_module_version": "1.2.0",
          "state": {
            "_model_module": "@jupyter-widgets/base",
            "_model_module_version": "1.2.0",
            "_model_name": "LayoutModel",
            "_view_count": null,
            "_view_module": "@jupyter-widgets/base",
            "_view_module_version": "1.2.0",
            "_view_name": "LayoutView",
            "align_content": null,
            "align_items": null,
            "align_self": null,
            "border": null,
            "bottom": null,
            "display": null,
            "flex": null,
            "flex_flow": null,
            "grid_area": null,
            "grid_auto_columns": null,
            "grid_auto_flow": null,
            "grid_auto_rows": null,
            "grid_column": null,
            "grid_gap": null,
            "grid_row": null,
            "grid_template_areas": null,
            "grid_template_columns": null,
            "grid_template_rows": null,
            "height": null,
            "justify_content": null,
            "justify_items": null,
            "left": null,
            "margin": null,
            "max_height": null,
            "max_width": null,
            "min_height": null,
            "min_width": null,
            "object_fit": null,
            "object_position": null,
            "order": null,
            "overflow": null,
            "overflow_x": null,
            "overflow_y": null,
            "padding": null,
            "right": null,
            "top": null,
            "visibility": null,
            "width": null
          }
        },
        "c894147446cc4b849f0e5c9575408553": {
          "model_module": "@jupyter-widgets/controls",
          "model_name": "ProgressStyleModel",
          "model_module_version": "1.5.0",
          "state": {
            "_model_module": "@jupyter-widgets/controls",
            "_model_module_version": "1.5.0",
            "_model_name": "ProgressStyleModel",
            "_view_count": null,
            "_view_module": "@jupyter-widgets/base",
            "_view_module_version": "1.2.0",
            "_view_name": "StyleView",
            "bar_color": null,
            "description_width": ""
          }
        },
        "0de29c5f0aec44ffbda4afd65ffa21d2": {
          "model_module": "@jupyter-widgets/base",
          "model_name": "LayoutModel",
          "model_module_version": "1.2.0",
          "state": {
            "_model_module": "@jupyter-widgets/base",
            "_model_module_version": "1.2.0",
            "_model_name": "LayoutModel",
            "_view_count": null,
            "_view_module": "@jupyter-widgets/base",
            "_view_module_version": "1.2.0",
            "_view_name": "LayoutView",
            "align_content": null,
            "align_items": null,
            "align_self": null,
            "border": null,
            "bottom": null,
            "display": null,
            "flex": null,
            "flex_flow": null,
            "grid_area": null,
            "grid_auto_columns": null,
            "grid_auto_flow": null,
            "grid_auto_rows": null,
            "grid_column": null,
            "grid_gap": null,
            "grid_row": null,
            "grid_template_areas": null,
            "grid_template_columns": null,
            "grid_template_rows": null,
            "height": null,
            "justify_content": null,
            "justify_items": null,
            "left": null,
            "margin": null,
            "max_height": null,
            "max_width": null,
            "min_height": null,
            "min_width": null,
            "object_fit": null,
            "object_position": null,
            "order": null,
            "overflow": null,
            "overflow_x": null,
            "overflow_y": null,
            "padding": null,
            "right": null,
            "top": null,
            "visibility": null,
            "width": null
          }
        },
        "f000c493c18e475e8d4bf52a903fa7f3": {
          "model_module": "@jupyter-widgets/controls",
          "model_name": "DescriptionStyleModel",
          "model_module_version": "1.5.0",
          "state": {
            "_model_module": "@jupyter-widgets/controls",
            "_model_module_version": "1.5.0",
            "_model_name": "DescriptionStyleModel",
            "_view_count": null,
            "_view_module": "@jupyter-widgets/base",
            "_view_module_version": "1.2.0",
            "_view_name": "StyleView",
            "description_width": ""
          }
        },
        "149ead168cca4f9bab980e695f86d194": {
          "model_module": "@jupyter-widgets/controls",
          "model_name": "HBoxModel",
          "model_module_version": "1.5.0",
          "state": {
            "_dom_classes": [],
            "_model_module": "@jupyter-widgets/controls",
            "_model_module_version": "1.5.0",
            "_model_name": "HBoxModel",
            "_view_count": null,
            "_view_module": "@jupyter-widgets/controls",
            "_view_module_version": "1.5.0",
            "_view_name": "HBoxView",
            "box_style": "",
            "children": [
              "IPY_MODEL_c37ebbe5b8504a16b04484a32622675e",
              "IPY_MODEL_cbcaca1f1bd24fe3a2ea4e62ae03e046",
              "IPY_MODEL_c31ffe246aa9477aa3aa83cb6f4d9744"
            ],
            "layout": "IPY_MODEL_c916e157a61f487d8588b80407d78492"
          }
        },
        "c37ebbe5b8504a16b04484a32622675e": {
          "model_module": "@jupyter-widgets/controls",
          "model_name": "HTMLModel",
          "model_module_version": "1.5.0",
          "state": {
            "_dom_classes": [],
            "_model_module": "@jupyter-widgets/controls",
            "_model_module_version": "1.5.0",
            "_model_name": "HTMLModel",
            "_view_count": null,
            "_view_module": "@jupyter-widgets/controls",
            "_view_module_version": "1.5.0",
            "_view_name": "HTMLView",
            "description": "",
            "description_tooltip": null,
            "layout": "IPY_MODEL_2d6120b7945d444390684f7e7f75601b",
            "placeholder": "​",
            "style": "IPY_MODEL_f308b67a229548a6961d0b514e9208ff",
            "value": "100%"
          }
        },
        "cbcaca1f1bd24fe3a2ea4e62ae03e046": {
          "model_module": "@jupyter-widgets/controls",
          "model_name": "FloatProgressModel",
          "model_module_version": "1.5.0",
          "state": {
            "_dom_classes": [],
            "_model_module": "@jupyter-widgets/controls",
            "_model_module_version": "1.5.0",
            "_model_name": "FloatProgressModel",
            "_view_count": null,
            "_view_module": "@jupyter-widgets/controls",
            "_view_module_version": "1.5.0",
            "_view_name": "ProgressView",
            "bar_style": "success",
            "description": "",
            "description_tooltip": null,
            "layout": "IPY_MODEL_3bb9a9094d4b4992807bad1d72268d08",
            "max": 1648877,
            "min": 0,
            "orientation": "horizontal",
            "style": "IPY_MODEL_9b4a4c74eca54d758e9daaebe7aea3ae",
            "value": 1648877
          }
        },
        "c31ffe246aa9477aa3aa83cb6f4d9744": {
          "model_module": "@jupyter-widgets/controls",
          "model_name": "HTMLModel",
          "model_module_version": "1.5.0",
          "state": {
            "_dom_classes": [],
            "_model_module": "@jupyter-widgets/controls",
            "_model_module_version": "1.5.0",
            "_model_name": "HTMLModel",
            "_view_count": null,
            "_view_module": "@jupyter-widgets/controls",
            "_view_module_version": "1.5.0",
            "_view_name": "HTMLView",
            "description": "",
            "description_tooltip": null,
            "layout": "IPY_MODEL_d0ef4b6e53284694ad0911bd9882c014",
            "placeholder": "​",
            "style": "IPY_MODEL_95a0e65481084898a0eb21a34582fe6f",
            "value": " 1648877/1648877 [00:00&lt;00:00, 22392613.16it/s]"
          }
        },
        "c916e157a61f487d8588b80407d78492": {
          "model_module": "@jupyter-widgets/base",
          "model_name": "LayoutModel",
          "model_module_version": "1.2.0",
          "state": {
            "_model_module": "@jupyter-widgets/base",
            "_model_module_version": "1.2.0",
            "_model_name": "LayoutModel",
            "_view_count": null,
            "_view_module": "@jupyter-widgets/base",
            "_view_module_version": "1.2.0",
            "_view_name": "LayoutView",
            "align_content": null,
            "align_items": null,
            "align_self": null,
            "border": null,
            "bottom": null,
            "display": null,
            "flex": null,
            "flex_flow": null,
            "grid_area": null,
            "grid_auto_columns": null,
            "grid_auto_flow": null,
            "grid_auto_rows": null,
            "grid_column": null,
            "grid_gap": null,
            "grid_row": null,
            "grid_template_areas": null,
            "grid_template_columns": null,
            "grid_template_rows": null,
            "height": null,
            "justify_content": null,
            "justify_items": null,
            "left": null,
            "margin": null,
            "max_height": null,
            "max_width": null,
            "min_height": null,
            "min_width": null,
            "object_fit": null,
            "object_position": null,
            "order": null,
            "overflow": null,
            "overflow_x": null,
            "overflow_y": null,
            "padding": null,
            "right": null,
            "top": null,
            "visibility": null,
            "width": null
          }
        },
        "2d6120b7945d444390684f7e7f75601b": {
          "model_module": "@jupyter-widgets/base",
          "model_name": "LayoutModel",
          "model_module_version": "1.2.0",
          "state": {
            "_model_module": "@jupyter-widgets/base",
            "_model_module_version": "1.2.0",
            "_model_name": "LayoutModel",
            "_view_count": null,
            "_view_module": "@jupyter-widgets/base",
            "_view_module_version": "1.2.0",
            "_view_name": "LayoutView",
            "align_content": null,
            "align_items": null,
            "align_self": null,
            "border": null,
            "bottom": null,
            "display": null,
            "flex": null,
            "flex_flow": null,
            "grid_area": null,
            "grid_auto_columns": null,
            "grid_auto_flow": null,
            "grid_auto_rows": null,
            "grid_column": null,
            "grid_gap": null,
            "grid_row": null,
            "grid_template_areas": null,
            "grid_template_columns": null,
            "grid_template_rows": null,
            "height": null,
            "justify_content": null,
            "justify_items": null,
            "left": null,
            "margin": null,
            "max_height": null,
            "max_width": null,
            "min_height": null,
            "min_width": null,
            "object_fit": null,
            "object_position": null,
            "order": null,
            "overflow": null,
            "overflow_x": null,
            "overflow_y": null,
            "padding": null,
            "right": null,
            "top": null,
            "visibility": null,
            "width": null
          }
        },
        "f308b67a229548a6961d0b514e9208ff": {
          "model_module": "@jupyter-widgets/controls",
          "model_name": "DescriptionStyleModel",
          "model_module_version": "1.5.0",
          "state": {
            "_model_module": "@jupyter-widgets/controls",
            "_model_module_version": "1.5.0",
            "_model_name": "DescriptionStyleModel",
            "_view_count": null,
            "_view_module": "@jupyter-widgets/base",
            "_view_module_version": "1.2.0",
            "_view_name": "StyleView",
            "description_width": ""
          }
        },
        "3bb9a9094d4b4992807bad1d72268d08": {
          "model_module": "@jupyter-widgets/base",
          "model_name": "LayoutModel",
          "model_module_version": "1.2.0",
          "state": {
            "_model_module": "@jupyter-widgets/base",
            "_model_module_version": "1.2.0",
            "_model_name": "LayoutModel",
            "_view_count": null,
            "_view_module": "@jupyter-widgets/base",
            "_view_module_version": "1.2.0",
            "_view_name": "LayoutView",
            "align_content": null,
            "align_items": null,
            "align_self": null,
            "border": null,
            "bottom": null,
            "display": null,
            "flex": null,
            "flex_flow": null,
            "grid_area": null,
            "grid_auto_columns": null,
            "grid_auto_flow": null,
            "grid_auto_rows": null,
            "grid_column": null,
            "grid_gap": null,
            "grid_row": null,
            "grid_template_areas": null,
            "grid_template_columns": null,
            "grid_template_rows": null,
            "height": null,
            "justify_content": null,
            "justify_items": null,
            "left": null,
            "margin": null,
            "max_height": null,
            "max_width": null,
            "min_height": null,
            "min_width": null,
            "object_fit": null,
            "object_position": null,
            "order": null,
            "overflow": null,
            "overflow_x": null,
            "overflow_y": null,
            "padding": null,
            "right": null,
            "top": null,
            "visibility": null,
            "width": null
          }
        },
        "9b4a4c74eca54d758e9daaebe7aea3ae": {
          "model_module": "@jupyter-widgets/controls",
          "model_name": "ProgressStyleModel",
          "model_module_version": "1.5.0",
          "state": {
            "_model_module": "@jupyter-widgets/controls",
            "_model_module_version": "1.5.0",
            "_model_name": "ProgressStyleModel",
            "_view_count": null,
            "_view_module": "@jupyter-widgets/base",
            "_view_module_version": "1.2.0",
            "_view_name": "StyleView",
            "bar_color": null,
            "description_width": ""
          }
        },
        "d0ef4b6e53284694ad0911bd9882c014": {
          "model_module": "@jupyter-widgets/base",
          "model_name": "LayoutModel",
          "model_module_version": "1.2.0",
          "state": {
            "_model_module": "@jupyter-widgets/base",
            "_model_module_version": "1.2.0",
            "_model_name": "LayoutModel",
            "_view_count": null,
            "_view_module": "@jupyter-widgets/base",
            "_view_module_version": "1.2.0",
            "_view_name": "LayoutView",
            "align_content": null,
            "align_items": null,
            "align_self": null,
            "border": null,
            "bottom": null,
            "display": null,
            "flex": null,
            "flex_flow": null,
            "grid_area": null,
            "grid_auto_columns": null,
            "grid_auto_flow": null,
            "grid_auto_rows": null,
            "grid_column": null,
            "grid_gap": null,
            "grid_row": null,
            "grid_template_areas": null,
            "grid_template_columns": null,
            "grid_template_rows": null,
            "height": null,
            "justify_content": null,
            "justify_items": null,
            "left": null,
            "margin": null,
            "max_height": null,
            "max_width": null,
            "min_height": null,
            "min_width": null,
            "object_fit": null,
            "object_position": null,
            "order": null,
            "overflow": null,
            "overflow_x": null,
            "overflow_y": null,
            "padding": null,
            "right": null,
            "top": null,
            "visibility": null,
            "width": null
          }
        },
        "95a0e65481084898a0eb21a34582fe6f": {
          "model_module": "@jupyter-widgets/controls",
          "model_name": "DescriptionStyleModel",
          "model_module_version": "1.5.0",
          "state": {
            "_model_module": "@jupyter-widgets/controls",
            "_model_module_version": "1.5.0",
            "_model_name": "DescriptionStyleModel",
            "_view_count": null,
            "_view_module": "@jupyter-widgets/base",
            "_view_module_version": "1.2.0",
            "_view_name": "StyleView",
            "description_width": ""
          }
        },
        "6174f0d2ebea4913ab427fe2f59d0202": {
          "model_module": "@jupyter-widgets/controls",
          "model_name": "HBoxModel",
          "model_module_version": "1.5.0",
          "state": {
            "_dom_classes": [],
            "_model_module": "@jupyter-widgets/controls",
            "_model_module_version": "1.5.0",
            "_model_name": "HBoxModel",
            "_view_count": null,
            "_view_module": "@jupyter-widgets/controls",
            "_view_module_version": "1.5.0",
            "_view_name": "HBoxView",
            "box_style": "",
            "children": [
              "IPY_MODEL_f27eb43df0ab48a38c079a880000f17e",
              "IPY_MODEL_ea75a6ec7adb495e9893272aed7299fe",
              "IPY_MODEL_33468b3cd8294411a41b6579dbf29618"
            ],
            "layout": "IPY_MODEL_527c76996d3d473a9cc290b60824f76f"
          }
        },
        "f27eb43df0ab48a38c079a880000f17e": {
          "model_module": "@jupyter-widgets/controls",
          "model_name": "HTMLModel",
          "model_module_version": "1.5.0",
          "state": {
            "_dom_classes": [],
            "_model_module": "@jupyter-widgets/controls",
            "_model_module_version": "1.5.0",
            "_model_name": "HTMLModel",
            "_view_count": null,
            "_view_module": "@jupyter-widgets/controls",
            "_view_module_version": "1.5.0",
            "_view_name": "HTMLView",
            "description": "",
            "description_tooltip": null,
            "layout": "IPY_MODEL_a6c45a60e8d347bba2ea91138eff70e5",
            "placeholder": "​",
            "style": "IPY_MODEL_5bd5effb1b164de8931436f557ff58d2",
            "value": "100%"
          }
        },
        "ea75a6ec7adb495e9893272aed7299fe": {
          "model_module": "@jupyter-widgets/controls",
          "model_name": "FloatProgressModel",
          "model_module_version": "1.5.0",
          "state": {
            "_dom_classes": [],
            "_model_module": "@jupyter-widgets/controls",
            "_model_module_version": "1.5.0",
            "_model_name": "FloatProgressModel",
            "_view_count": null,
            "_view_module": "@jupyter-widgets/controls",
            "_view_module_version": "1.5.0",
            "_view_name": "ProgressView",
            "bar_style": "success",
            "description": "",
            "description_tooltip": null,
            "layout": "IPY_MODEL_dea2f6df2c844f8cad13d69d63a6f381",
            "max": 4542,
            "min": 0,
            "orientation": "horizontal",
            "style": "IPY_MODEL_9fb64823e57947b5a4243bcbcf19bd75",
            "value": 4542
          }
        },
        "33468b3cd8294411a41b6579dbf29618": {
          "model_module": "@jupyter-widgets/controls",
          "model_name": "HTMLModel",
          "model_module_version": "1.5.0",
          "state": {
            "_dom_classes": [],
            "_model_module": "@jupyter-widgets/controls",
            "_model_module_version": "1.5.0",
            "_model_name": "HTMLModel",
            "_view_count": null,
            "_view_module": "@jupyter-widgets/controls",
            "_view_module_version": "1.5.0",
            "_view_name": "HTMLView",
            "description": "",
            "description_tooltip": null,
            "layout": "IPY_MODEL_8159820550054c8ebb20310ec4c05b90",
            "placeholder": "​",
            "style": "IPY_MODEL_66bb5b0a6d14421e97910aec9f9bf419",
            "value": " 4542/4542 [00:00&lt;00:00, 124840.46it/s]"
          }
        },
        "527c76996d3d473a9cc290b60824f76f": {
          "model_module": "@jupyter-widgets/base",
          "model_name": "LayoutModel",
          "model_module_version": "1.2.0",
          "state": {
            "_model_module": "@jupyter-widgets/base",
            "_model_module_version": "1.2.0",
            "_model_name": "LayoutModel",
            "_view_count": null,
            "_view_module": "@jupyter-widgets/base",
            "_view_module_version": "1.2.0",
            "_view_name": "LayoutView",
            "align_content": null,
            "align_items": null,
            "align_self": null,
            "border": null,
            "bottom": null,
            "display": null,
            "flex": null,
            "flex_flow": null,
            "grid_area": null,
            "grid_auto_columns": null,
            "grid_auto_flow": null,
            "grid_auto_rows": null,
            "grid_column": null,
            "grid_gap": null,
            "grid_row": null,
            "grid_template_areas": null,
            "grid_template_columns": null,
            "grid_template_rows": null,
            "height": null,
            "justify_content": null,
            "justify_items": null,
            "left": null,
            "margin": null,
            "max_height": null,
            "max_width": null,
            "min_height": null,
            "min_width": null,
            "object_fit": null,
            "object_position": null,
            "order": null,
            "overflow": null,
            "overflow_x": null,
            "overflow_y": null,
            "padding": null,
            "right": null,
            "top": null,
            "visibility": null,
            "width": null
          }
        },
        "a6c45a60e8d347bba2ea91138eff70e5": {
          "model_module": "@jupyter-widgets/base",
          "model_name": "LayoutModel",
          "model_module_version": "1.2.0",
          "state": {
            "_model_module": "@jupyter-widgets/base",
            "_model_module_version": "1.2.0",
            "_model_name": "LayoutModel",
            "_view_count": null,
            "_view_module": "@jupyter-widgets/base",
            "_view_module_version": "1.2.0",
            "_view_name": "LayoutView",
            "align_content": null,
            "align_items": null,
            "align_self": null,
            "border": null,
            "bottom": null,
            "display": null,
            "flex": null,
            "flex_flow": null,
            "grid_area": null,
            "grid_auto_columns": null,
            "grid_auto_flow": null,
            "grid_auto_rows": null,
            "grid_column": null,
            "grid_gap": null,
            "grid_row": null,
            "grid_template_areas": null,
            "grid_template_columns": null,
            "grid_template_rows": null,
            "height": null,
            "justify_content": null,
            "justify_items": null,
            "left": null,
            "margin": null,
            "max_height": null,
            "max_width": null,
            "min_height": null,
            "min_width": null,
            "object_fit": null,
            "object_position": null,
            "order": null,
            "overflow": null,
            "overflow_x": null,
            "overflow_y": null,
            "padding": null,
            "right": null,
            "top": null,
            "visibility": null,
            "width": null
          }
        },
        "5bd5effb1b164de8931436f557ff58d2": {
          "model_module": "@jupyter-widgets/controls",
          "model_name": "DescriptionStyleModel",
          "model_module_version": "1.5.0",
          "state": {
            "_model_module": "@jupyter-widgets/controls",
            "_model_module_version": "1.5.0",
            "_model_name": "DescriptionStyleModel",
            "_view_count": null,
            "_view_module": "@jupyter-widgets/base",
            "_view_module_version": "1.2.0",
            "_view_name": "StyleView",
            "description_width": ""
          }
        },
        "dea2f6df2c844f8cad13d69d63a6f381": {
          "model_module": "@jupyter-widgets/base",
          "model_name": "LayoutModel",
          "model_module_version": "1.2.0",
          "state": {
            "_model_module": "@jupyter-widgets/base",
            "_model_module_version": "1.2.0",
            "_model_name": "LayoutModel",
            "_view_count": null,
            "_view_module": "@jupyter-widgets/base",
            "_view_module_version": "1.2.0",
            "_view_name": "LayoutView",
            "align_content": null,
            "align_items": null,
            "align_self": null,
            "border": null,
            "bottom": null,
            "display": null,
            "flex": null,
            "flex_flow": null,
            "grid_area": null,
            "grid_auto_columns": null,
            "grid_auto_flow": null,
            "grid_auto_rows": null,
            "grid_column": null,
            "grid_gap": null,
            "grid_row": null,
            "grid_template_areas": null,
            "grid_template_columns": null,
            "grid_template_rows": null,
            "height": null,
            "justify_content": null,
            "justify_items": null,
            "left": null,
            "margin": null,
            "max_height": null,
            "max_width": null,
            "min_height": null,
            "min_width": null,
            "object_fit": null,
            "object_position": null,
            "order": null,
            "overflow": null,
            "overflow_x": null,
            "overflow_y": null,
            "padding": null,
            "right": null,
            "top": null,
            "visibility": null,
            "width": null
          }
        },
        "9fb64823e57947b5a4243bcbcf19bd75": {
          "model_module": "@jupyter-widgets/controls",
          "model_name": "ProgressStyleModel",
          "model_module_version": "1.5.0",
          "state": {
            "_model_module": "@jupyter-widgets/controls",
            "_model_module_version": "1.5.0",
            "_model_name": "ProgressStyleModel",
            "_view_count": null,
            "_view_module": "@jupyter-widgets/base",
            "_view_module_version": "1.2.0",
            "_view_name": "StyleView",
            "bar_color": null,
            "description_width": ""
          }
        },
        "8159820550054c8ebb20310ec4c05b90": {
          "model_module": "@jupyter-widgets/base",
          "model_name": "LayoutModel",
          "model_module_version": "1.2.0",
          "state": {
            "_model_module": "@jupyter-widgets/base",
            "_model_module_version": "1.2.0",
            "_model_name": "LayoutModel",
            "_view_count": null,
            "_view_module": "@jupyter-widgets/base",
            "_view_module_version": "1.2.0",
            "_view_name": "LayoutView",
            "align_content": null,
            "align_items": null,
            "align_self": null,
            "border": null,
            "bottom": null,
            "display": null,
            "flex": null,
            "flex_flow": null,
            "grid_area": null,
            "grid_auto_columns": null,
            "grid_auto_flow": null,
            "grid_auto_rows": null,
            "grid_column": null,
            "grid_gap": null,
            "grid_row": null,
            "grid_template_areas": null,
            "grid_template_columns": null,
            "grid_template_rows": null,
            "height": null,
            "justify_content": null,
            "justify_items": null,
            "left": null,
            "margin": null,
            "max_height": null,
            "max_width": null,
            "min_height": null,
            "min_width": null,
            "object_fit": null,
            "object_position": null,
            "order": null,
            "overflow": null,
            "overflow_x": null,
            "overflow_y": null,
            "padding": null,
            "right": null,
            "top": null,
            "visibility": null,
            "width": null
          }
        },
        "66bb5b0a6d14421e97910aec9f9bf419": {
          "model_module": "@jupyter-widgets/controls",
          "model_name": "DescriptionStyleModel",
          "model_module_version": "1.5.0",
          "state": {
            "_model_module": "@jupyter-widgets/controls",
            "_model_module_version": "1.5.0",
            "_model_name": "DescriptionStyleModel",
            "_view_count": null,
            "_view_module": "@jupyter-widgets/base",
            "_view_module_version": "1.2.0",
            "_view_name": "StyleView",
            "description_width": ""
          }
        }
      }
    }
  },
  "cells": [
    {
      "cell_type": "markdown",
      "source": [
        "# Linear Regression"
      ],
      "metadata": {
        "id": "su_J3PzggLKN"
      }
    },
    {
      "cell_type": "code",
      "execution_count": null,
      "metadata": {
        "id": "Et0Iwt4OfWlX"
      },
      "outputs": [],
      "source": [
        "# pytorch와 각종 필요한 재료 Import\n",
        "import torch\n",
        "import random"
      ]
    },
    {
      "cell_type": "code",
      "source": [
        "device = 'cuda' if torch.cuda.is_available() else 'cpu'\n",
        "\n",
        "# 동일한 결과를 출력하기 위한 코드\n",
        "random.seed(777)\n",
        "torch.manual_seed(777)\n",
        "if device == 'cuda':\n",
        "    torch.cuda.manual_seed_all(777)"
      ],
      "metadata": {
        "id": "N_I0-EcmhFgH"
      },
      "execution_count": null,
      "outputs": []
    },
    {
      "cell_type": "code",
      "source": [
        "# 입력 데이터 쌍 생성 (x, y)\n",
        "x_train = torch.FloatTensor([[1], [2], [3]])\n",
        "y_train = torch.FloatTensor([[3], [5], [7]]) # y=2x+1"
      ],
      "metadata": {
        "id": "3_QzHxXEfs0T"
      },
      "execution_count": null,
      "outputs": []
    },
    {
      "cell_type": "code",
      "source": [
        "# weight, bias 초기화\n",
        "# requires_grad: Backpropagation 과정에서 이루어지는 연산(Autograd 연산)을 모두 추적해야 한다 = 결과를 저장하고 있어라!\n",
        "W = torch.zeros(1, requires_grad=True)\n",
        "b = torch.zeros(1, requires_grad=True)"
      ],
      "metadata": {
        "id": "ySeICobKf2Hm"
      },
      "execution_count": null,
      "outputs": []
    },
    {
      "cell_type": "code",
      "source": [
        "# 선형 회귀 모델 생성\n",
        "y_hat = x_train * W + b"
      ],
      "metadata": {
        "id": "Lr6F3ZUHf7oO"
      },
      "execution_count": null,
      "outputs": []
    },
    {
      "cell_type": "code",
      "source": [
        "# cost 함수와 optimizer 선언\n",
        "cost = torch.nn.MSELoss() # MSE loss\n",
        "optimizer = torch.optim.SGD([W, b], lr=0.01) # Stochastic Gradient Descent\n",
        "\n",
        "\"\"\" < Optimizer parameter 설정 방법 >\n",
        "1. torch.optim.SGD([W, b], lr=0.01) -> 우리가 모델의 관계식을 직접 설정해줄 때\n",
        "2. torch.optim.SGD(model.parameters(), lr=0.01) -> torch가 모델에 대한 정보를 이미 알고 있을 때\n",
        "* learning rate\n",
        ": 각 optimizer에서 자주 쓰는 learning rate가 default로 이미 저장 \n",
        "-> SGD의 경우 우리가 직접 설정해줘야 함 (https://pytorch.org/docs/stable/generated/torch.optim.SGD.html)\n",
        "\"\"\" \n"
      ],
      "metadata": {
        "id": "7YbcwnARgAQS",
        "colab": {
          "base_uri": "https://localhost:8080/",
          "height": 53
        },
        "outputId": "7f68ff65-95de-4f49-e484-8d8c461aca76"
      },
      "execution_count": null,
      "outputs": [
        {
          "output_type": "execute_result",
          "data": {
            "text/plain": [
              "' < Optimizer parameter 설정 방법 >\\n1. torch.optim.SGD([W, b], lr=0.01) -> 우리가 모델의 관계식을 직접 설정해줄 때\\n2. torch.optim.SGD(model.parameters(), lr=0.01) -> torch가 모델에 대한 정보를 이미 알고 있을 때\\n* learning rate\\n: 각 optimizer에서 자주 쓰는 learning rate가 default로 이미 저장 \\n-> SGD의 경우 우리가 직접 설정해줘야 함 (https://pytorch.org/docs/stable/generated/torch.optim.SGD.html)\\n'"
            ],
            "application/vnd.google.colaboratory.intrinsic+json": {
              "type": "string"
            }
          },
          "metadata": {},
          "execution_count": 10
        }
      ]
    },
    {
      "cell_type": "code",
      "source": [
        "for epoch in range(10001):\n",
        "    # y_hat 계산\n",
        "    y_hat = x_train * W + b\n",
        "\n",
        "    # cost 계산\n",
        "    loss = cost(y_hat, y_train)\n",
        "\n",
        "    # cost로 모델 개선\n",
        "    optimizer.zero_grad()\n",
        "    loss.backward()\n",
        "    optimizer.step()\n",
        "\n",
        "    # 100번마다 로그 출력\n",
        "    if epoch % 100 == 0:\n",
        "        print('Epoch {:4d}/{} W: {:.3f}, b: {:.3f} Cost: {:.6f}'.format(\n",
        "            epoch, 10001, W.item(), b.item(), loss.item()\n",
        "        )) # item 메소드: torch.tensor 형태로 나타나는 tensor 값에서 우리가 필요한 값(cost, bias, weight 등)만 뽑아내줌"
      ],
      "metadata": {
        "id": "sOEQWi5DgFti",
        "colab": {
          "base_uri": "https://localhost:8080/"
        },
        "outputId": "f89ebdd0-88b2-4972-bb05-2e3ec795e67b"
      },
      "execution_count": null,
      "outputs": [
        {
          "output_type": "stream",
          "name": "stdout",
          "text": [
            "Epoch    0/10001 W: 0.428, b: 0.189 Cost: 21.869318\n",
            "Epoch  100/10001 W: 2.035, b: 0.921 Cost: 0.000895\n",
            "Epoch  200/10001 W: 2.027, b: 0.938 Cost: 0.000553\n",
            "Epoch  300/10001 W: 2.021, b: 0.951 Cost: 0.000342\n",
            "Epoch  400/10001 W: 2.017, b: 0.962 Cost: 0.000211\n",
            "Epoch  500/10001 W: 2.013, b: 0.970 Cost: 0.000130\n",
            "Epoch  600/10001 W: 2.010, b: 0.976 Cost: 0.000081\n",
            "Epoch  700/10001 W: 2.008, b: 0.981 Cost: 0.000050\n",
            "Epoch  800/10001 W: 2.006, b: 0.985 Cost: 0.000031\n",
            "Epoch  900/10001 W: 2.005, b: 0.989 Cost: 0.000019\n",
            "Epoch 1000/10001 W: 2.004, b: 0.991 Cost: 0.000012\n",
            "Epoch 1100/10001 W: 2.003, b: 0.993 Cost: 0.000007\n",
            "Epoch 1200/10001 W: 2.002, b: 0.994 Cost: 0.000004\n",
            "Epoch 1300/10001 W: 2.002, b: 0.996 Cost: 0.000003\n",
            "Epoch 1400/10001 W: 2.002, b: 0.997 Cost: 0.000002\n",
            "Epoch 1500/10001 W: 2.001, b: 0.997 Cost: 0.000001\n",
            "Epoch 1600/10001 W: 2.001, b: 0.998 Cost: 0.000001\n",
            "Epoch 1700/10001 W: 2.001, b: 0.998 Cost: 0.000000\n",
            "Epoch 1800/10001 W: 2.001, b: 0.999 Cost: 0.000000\n",
            "Epoch 1900/10001 W: 2.000, b: 0.999 Cost: 0.000000\n",
            "Epoch 2000/10001 W: 2.000, b: 0.999 Cost: 0.000000\n",
            "Epoch 2100/10001 W: 2.000, b: 0.999 Cost: 0.000000\n",
            "Epoch 2200/10001 W: 2.000, b: 0.999 Cost: 0.000000\n",
            "Epoch 2300/10001 W: 2.000, b: 1.000 Cost: 0.000000\n",
            "Epoch 2400/10001 W: 2.000, b: 1.000 Cost: 0.000000\n",
            "Epoch 2500/10001 W: 2.000, b: 1.000 Cost: 0.000000\n",
            "Epoch 2600/10001 W: 2.000, b: 1.000 Cost: 0.000000\n",
            "Epoch 2700/10001 W: 2.000, b: 1.000 Cost: 0.000000\n",
            "Epoch 2800/10001 W: 2.000, b: 1.000 Cost: 0.000000\n",
            "Epoch 2900/10001 W: 2.000, b: 1.000 Cost: 0.000000\n",
            "Epoch 3000/10001 W: 2.000, b: 1.000 Cost: 0.000000\n",
            "Epoch 3100/10001 W: 2.000, b: 1.000 Cost: 0.000000\n",
            "Epoch 3200/10001 W: 2.000, b: 1.000 Cost: 0.000000\n",
            "Epoch 3300/10001 W: 2.000, b: 1.000 Cost: 0.000000\n",
            "Epoch 3400/10001 W: 2.000, b: 1.000 Cost: 0.000000\n",
            "Epoch 3500/10001 W: 2.000, b: 1.000 Cost: 0.000000\n",
            "Epoch 3600/10001 W: 2.000, b: 1.000 Cost: 0.000000\n",
            "Epoch 3700/10001 W: 2.000, b: 1.000 Cost: 0.000000\n",
            "Epoch 3800/10001 W: 2.000, b: 1.000 Cost: 0.000000\n",
            "Epoch 3900/10001 W: 2.000, b: 1.000 Cost: 0.000000\n",
            "Epoch 4000/10001 W: 2.000, b: 1.000 Cost: 0.000000\n",
            "Epoch 4100/10001 W: 2.000, b: 1.000 Cost: 0.000000\n",
            "Epoch 4200/10001 W: 2.000, b: 1.000 Cost: 0.000000\n",
            "Epoch 4300/10001 W: 2.000, b: 1.000 Cost: 0.000000\n",
            "Epoch 4400/10001 W: 2.000, b: 1.000 Cost: 0.000000\n",
            "Epoch 4500/10001 W: 2.000, b: 1.000 Cost: 0.000000\n",
            "Epoch 4600/10001 W: 2.000, b: 1.000 Cost: 0.000000\n",
            "Epoch 4700/10001 W: 2.000, b: 1.000 Cost: 0.000000\n",
            "Epoch 4800/10001 W: 2.000, b: 1.000 Cost: 0.000000\n",
            "Epoch 4900/10001 W: 2.000, b: 1.000 Cost: 0.000000\n",
            "Epoch 5000/10001 W: 2.000, b: 1.000 Cost: 0.000000\n",
            "Epoch 5100/10001 W: 2.000, b: 1.000 Cost: 0.000000\n",
            "Epoch 5200/10001 W: 2.000, b: 1.000 Cost: 0.000000\n",
            "Epoch 5300/10001 W: 2.000, b: 1.000 Cost: 0.000000\n",
            "Epoch 5400/10001 W: 2.000, b: 1.000 Cost: 0.000000\n",
            "Epoch 5500/10001 W: 2.000, b: 1.000 Cost: 0.000000\n",
            "Epoch 5600/10001 W: 2.000, b: 1.000 Cost: 0.000000\n",
            "Epoch 5700/10001 W: 2.000, b: 1.000 Cost: 0.000000\n",
            "Epoch 5800/10001 W: 2.000, b: 1.000 Cost: 0.000000\n",
            "Epoch 5900/10001 W: 2.000, b: 1.000 Cost: 0.000000\n",
            "Epoch 6000/10001 W: 2.000, b: 1.000 Cost: 0.000000\n",
            "Epoch 6100/10001 W: 2.000, b: 1.000 Cost: 0.000000\n",
            "Epoch 6200/10001 W: 2.000, b: 1.000 Cost: 0.000000\n",
            "Epoch 6300/10001 W: 2.000, b: 1.000 Cost: 0.000000\n",
            "Epoch 6400/10001 W: 2.000, b: 1.000 Cost: 0.000000\n",
            "Epoch 6500/10001 W: 2.000, b: 1.000 Cost: 0.000000\n",
            "Epoch 6600/10001 W: 2.000, b: 1.000 Cost: 0.000000\n",
            "Epoch 6700/10001 W: 2.000, b: 1.000 Cost: 0.000000\n",
            "Epoch 6800/10001 W: 2.000, b: 1.000 Cost: 0.000000\n",
            "Epoch 6900/10001 W: 2.000, b: 1.000 Cost: 0.000000\n",
            "Epoch 7000/10001 W: 2.000, b: 1.000 Cost: 0.000000\n",
            "Epoch 7100/10001 W: 2.000, b: 1.000 Cost: 0.000000\n",
            "Epoch 7200/10001 W: 2.000, b: 1.000 Cost: 0.000000\n",
            "Epoch 7300/10001 W: 2.000, b: 1.000 Cost: 0.000000\n",
            "Epoch 7400/10001 W: 2.000, b: 1.000 Cost: 0.000000\n",
            "Epoch 7500/10001 W: 2.000, b: 1.000 Cost: 0.000000\n",
            "Epoch 7600/10001 W: 2.000, b: 1.000 Cost: 0.000000\n",
            "Epoch 7700/10001 W: 2.000, b: 1.000 Cost: 0.000000\n",
            "Epoch 7800/10001 W: 2.000, b: 1.000 Cost: 0.000000\n",
            "Epoch 7900/10001 W: 2.000, b: 1.000 Cost: 0.000000\n",
            "Epoch 8000/10001 W: 2.000, b: 1.000 Cost: 0.000000\n",
            "Epoch 8100/10001 W: 2.000, b: 1.000 Cost: 0.000000\n",
            "Epoch 8200/10001 W: 2.000, b: 1.000 Cost: 0.000000\n",
            "Epoch 8300/10001 W: 2.000, b: 1.000 Cost: 0.000000\n",
            "Epoch 8400/10001 W: 2.000, b: 1.000 Cost: 0.000000\n",
            "Epoch 8500/10001 W: 2.000, b: 1.000 Cost: 0.000000\n",
            "Epoch 8600/10001 W: 2.000, b: 1.000 Cost: 0.000000\n",
            "Epoch 8700/10001 W: 2.000, b: 1.000 Cost: 0.000000\n",
            "Epoch 8800/10001 W: 2.000, b: 1.000 Cost: 0.000000\n",
            "Epoch 8900/10001 W: 2.000, b: 1.000 Cost: 0.000000\n",
            "Epoch 9000/10001 W: 2.000, b: 1.000 Cost: 0.000000\n",
            "Epoch 9100/10001 W: 2.000, b: 1.000 Cost: 0.000000\n",
            "Epoch 9200/10001 W: 2.000, b: 1.000 Cost: 0.000000\n",
            "Epoch 9300/10001 W: 2.000, b: 1.000 Cost: 0.000000\n",
            "Epoch 9400/10001 W: 2.000, b: 1.000 Cost: 0.000000\n",
            "Epoch 9500/10001 W: 2.000, b: 1.000 Cost: 0.000000\n",
            "Epoch 9600/10001 W: 2.000, b: 1.000 Cost: 0.000000\n",
            "Epoch 9700/10001 W: 2.000, b: 1.000 Cost: 0.000000\n",
            "Epoch 9800/10001 W: 2.000, b: 1.000 Cost: 0.000000\n",
            "Epoch 9900/10001 W: 2.000, b: 1.000 Cost: 0.000000\n",
            "Epoch 10000/10001 W: 2.000, b: 1.000 Cost: 0.000000\n"
          ]
        }
      ]
    },
    {
      "cell_type": "markdown",
      "source": [
        "# Logistic Regression"
      ],
      "metadata": {
        "id": "oDrGdJdsgQkU"
      }
    },
    {
      "cell_type": "code",
      "source": [
        "# 입력 데이터 쌍 생성 (x, y)\n",
        "x_train = torch.FloatTensor([[1, 2], [2, 3], [3, 1], [4, 3], [5, 3], [6, 2]])\n",
        "y_train = torch.FloatTensor([[0], [0], [0], [1], [1], [1]])"
      ],
      "metadata": {
        "id": "68h4HMgWgWC3"
      },
      "execution_count": null,
      "outputs": []
    },
    {
      "cell_type": "code",
      "source": [
        "# weight, bias 초기화\n",
        "W = torch.zeros((2, 1), requires_grad=True) \n",
        "b = torch.zeros(1, requires_grad=True)\n",
        "\"\"\" \n",
        "  weight는 x_train의 shape만큼 초기화 해주어야 함\n",
        "\"\"\""
      ],
      "metadata": {
        "id": "rGwlLhMxge-M",
        "colab": {
          "base_uri": "https://localhost:8080/",
          "height": 35
        },
        "outputId": "319f903c-5014-498a-93a0-864e6fd22f3e"
      },
      "execution_count": null,
      "outputs": [
        {
          "output_type": "execute_result",
          "data": {
            "text/plain": [
              "' \\n  weight는 x_train의 shape만큼 초기화 해주어야 함\\n'"
            ],
            "application/vnd.google.colaboratory.intrinsic+json": {
              "type": "string"
            }
          },
          "metadata": {},
          "execution_count": 18
        }
      ]
    },
    {
      "cell_type": "code",
      "source": [
        "# Logistic Regression 모델 선언\n",
        "y_hat = torch.sigmoid(x_train.matmul(W) + b)"
      ],
      "metadata": {
        "id": "pz1z-_AigmM8"
      },
      "execution_count": null,
      "outputs": []
    },
    {
      "cell_type": "code",
      "source": [
        "# cost 함수와 optimizer 선언\n",
        "cost = torch.nn.BCELoss().to(device)\n",
        "optimizer = torch.optim.SGD([W, b], lr=1)"
      ],
      "metadata": {
        "id": "GGI9K8WfnuqN"
      },
      "execution_count": null,
      "outputs": []
    },
    {
      "cell_type": "code",
      "source": [
        "for epoch in range(10001):\n",
        "\n",
        "    # Cost 계산\n",
        "    y_hat = torch.sigmoid(x_train.matmul(W) + b)\n",
        "    loss = cost(y_hat, y_train)\n",
        "\n",
        "    # cost로 모델 개선\n",
        "    optimizer.zero_grad()\n",
        "    loss.backward()\n",
        "    optimizer.step()\n",
        "\n",
        "    # 100번마다 로그 출력\n",
        "    if epoch % 100 == 0:\n",
        "        print('Epoch {:4d}/{} Cost: {:.6f}'.format(\n",
        "            epoch, 10001, loss.item()))"
      ],
      "metadata": {
        "id": "Ue5nBRQcgqX5",
        "colab": {
          "base_uri": "https://localhost:8080/"
        },
        "outputId": "80d9e266-5c04-4ccc-c920-33a801221e50"
      },
      "execution_count": null,
      "outputs": [
        {
          "output_type": "stream",
          "name": "stdout",
          "text": [
            "Epoch    0/10001 Cost: 0.693147\n",
            "Epoch  100/10001 Cost: 0.134722\n",
            "Epoch  200/10001 Cost: 0.080643\n",
            "Epoch  300/10001 Cost: 0.057900\n",
            "Epoch  400/10001 Cost: 0.045300\n",
            "Epoch  500/10001 Cost: 0.037261\n",
            "Epoch  600/10001 Cost: 0.031672\n",
            "Epoch  700/10001 Cost: 0.027556\n",
            "Epoch  800/10001 Cost: 0.024394\n",
            "Epoch  900/10001 Cost: 0.021888\n",
            "Epoch 1000/10001 Cost: 0.019852\n",
            "Epoch 1100/10001 Cost: 0.018165\n",
            "Epoch 1200/10001 Cost: 0.016743\n",
            "Epoch 1300/10001 Cost: 0.015528\n",
            "Epoch 1400/10001 Cost: 0.014479\n",
            "Epoch 1500/10001 Cost: 0.013562\n",
            "Epoch 1600/10001 Cost: 0.012755\n",
            "Epoch 1700/10001 Cost: 0.012039\n",
            "Epoch 1800/10001 Cost: 0.011400\n",
            "Epoch 1900/10001 Cost: 0.010825\n",
            "Epoch 2000/10001 Cost: 0.010305\n",
            "Epoch 2100/10001 Cost: 0.009833\n",
            "Epoch 2200/10001 Cost: 0.009403\n",
            "Epoch 2300/10001 Cost: 0.009008\n",
            "Epoch 2400/10001 Cost: 0.008646\n",
            "Epoch 2500/10001 Cost: 0.008311\n",
            "Epoch 2600/10001 Cost: 0.008002\n",
            "Epoch 2700/10001 Cost: 0.007715\n",
            "Epoch 2800/10001 Cost: 0.007447\n",
            "Epoch 2900/10001 Cost: 0.007198\n",
            "Epoch 3000/10001 Cost: 0.006965\n",
            "Epoch 3100/10001 Cost: 0.006746\n",
            "Epoch 3200/10001 Cost: 0.006541\n",
            "Epoch 3300/10001 Cost: 0.006348\n",
            "Epoch 3400/10001 Cost: 0.006166\n",
            "Epoch 3500/10001 Cost: 0.005994\n",
            "Epoch 3600/10001 Cost: 0.005831\n",
            "Epoch 3700/10001 Cost: 0.005677\n",
            "Epoch 3800/10001 Cost: 0.005531\n",
            "Epoch 3900/10001 Cost: 0.005392\n",
            "Epoch 4000/10001 Cost: 0.005260\n",
            "Epoch 4100/10001 Cost: 0.005135\n",
            "Epoch 4200/10001 Cost: 0.005015\n",
            "Epoch 4300/10001 Cost: 0.004901\n",
            "Epoch 4400/10001 Cost: 0.004792\n",
            "Epoch 4500/10001 Cost: 0.004687\n",
            "Epoch 4600/10001 Cost: 0.004587\n",
            "Epoch 4700/10001 Cost: 0.004491\n",
            "Epoch 4800/10001 Cost: 0.004400\n",
            "Epoch 4900/10001 Cost: 0.004311\n",
            "Epoch 5000/10001 Cost: 0.004227\n",
            "Epoch 5100/10001 Cost: 0.004145\n",
            "Epoch 5200/10001 Cost: 0.004067\n",
            "Epoch 5300/10001 Cost: 0.003991\n",
            "Epoch 5400/10001 Cost: 0.003919\n",
            "Epoch 5500/10001 Cost: 0.003848\n",
            "Epoch 5600/10001 Cost: 0.003781\n",
            "Epoch 5700/10001 Cost: 0.003715\n",
            "Epoch 5800/10001 Cost: 0.003652\n",
            "Epoch 5900/10001 Cost: 0.003591\n",
            "Epoch 6000/10001 Cost: 0.003532\n",
            "Epoch 6100/10001 Cost: 0.003475\n",
            "Epoch 6200/10001 Cost: 0.003420\n",
            "Epoch 6300/10001 Cost: 0.003367\n",
            "Epoch 6400/10001 Cost: 0.003315\n",
            "Epoch 6500/10001 Cost: 0.003264\n",
            "Epoch 6600/10001 Cost: 0.003216\n",
            "Epoch 6700/10001 Cost: 0.003168\n",
            "Epoch 6800/10001 Cost: 0.003122\n",
            "Epoch 6900/10001 Cost: 0.003078\n",
            "Epoch 7000/10001 Cost: 0.003034\n",
            "Epoch 7100/10001 Cost: 0.002992\n",
            "Epoch 7200/10001 Cost: 0.002951\n",
            "Epoch 7300/10001 Cost: 0.002911\n",
            "Epoch 7400/10001 Cost: 0.002872\n",
            "Epoch 7500/10001 Cost: 0.002834\n",
            "Epoch 7600/10001 Cost: 0.002797\n",
            "Epoch 7700/10001 Cost: 0.002761\n",
            "Epoch 7800/10001 Cost: 0.002726\n",
            "Epoch 7900/10001 Cost: 0.002692\n",
            "Epoch 8000/10001 Cost: 0.002659\n",
            "Epoch 8100/10001 Cost: 0.002627\n",
            "Epoch 8200/10001 Cost: 0.002595\n",
            "Epoch 8300/10001 Cost: 0.002564\n",
            "Epoch 8400/10001 Cost: 0.002534\n",
            "Epoch 8500/10001 Cost: 0.002504\n",
            "Epoch 8600/10001 Cost: 0.002475\n",
            "Epoch 8700/10001 Cost: 0.002447\n",
            "Epoch 8800/10001 Cost: 0.002420\n",
            "Epoch 8900/10001 Cost: 0.002393\n",
            "Epoch 9000/10001 Cost: 0.002366\n",
            "Epoch 9100/10001 Cost: 0.002341\n",
            "Epoch 9200/10001 Cost: 0.002316\n",
            "Epoch 9300/10001 Cost: 0.002291\n",
            "Epoch 9400/10001 Cost: 0.002267\n",
            "Epoch 9500/10001 Cost: 0.002243\n",
            "Epoch 9600/10001 Cost: 0.002220\n",
            "Epoch 9700/10001 Cost: 0.002197\n",
            "Epoch 9800/10001 Cost: 0.002175\n",
            "Epoch 9900/10001 Cost: 0.002153\n",
            "Epoch 10000/10001 Cost: 0.002132\n"
          ]
        }
      ]
    },
    {
      "cell_type": "markdown",
      "source": [
        "# Softmax Regression"
      ],
      "metadata": {
        "id": "z5cQFmLfguWD"
      }
    },
    {
      "cell_type": "code",
      "source": [
        "import torchvision.datasets as dataset\n",
        "import torchvision.transforms as transforms"
      ],
      "metadata": {
        "id": "DAZB03eiouTd"
      },
      "execution_count": null,
      "outputs": []
    },
    {
      "cell_type": "code",
      "source": [
        "# MNIST dataset\n",
        "mnist_train = dataset.MNIST(root='MNIST_data/',\n",
        "                          train=True,\n",
        "                          transform=transforms.ToTensor(),\n",
        "                          download=True)\n",
        "\n",
        "mnist_test = dataset.MNIST(root='MNIST_data/',\n",
        "                         train=False,\n",
        "                         transform=transforms.ToTensor(),\n",
        "                         download=True)\n",
        "\"\"\"\n",
        "<torchvision>\n",
        ": 유명한 데이터셋(MNIST, ciFar10, ciFar100 등), 모델 아키텍처, 컴퓨터 비전 테스크에 알맞도록 이미지 변형이 가능하게 하는 라이브러리\n",
        "\n",
        "<transform>\n",
        ": 변형(transform)을 통해 데이터를 조작하고 학습에 적합하게 만듦\n",
        "-> 여기서는 MNIST 이미지 데이터들을 tensor 형태로 바꾸어라!\n",
        "\"\"\"\n"
      ],
      "metadata": {
        "id": "HnkdlVoVgyXS",
        "colab": {
          "base_uri": "https://localhost:8080/",
          "height": 467,
          "referenced_widgets": [
            "7e87d5d142e74cd18d89a2606125d3b9",
            "ec9585ec335640be8f5e4affec5613b5",
            "b46c4661e5dc432198cd79daf78d9377",
            "0e02241d64be4f668f1cf51e03b599dd",
            "9e349512596a45fb93d8d6dfb0323e90",
            "d495d13cb6834fb5b4b10d0f5216a1cf",
            "6e4d37c49a8e4dfd82a7e4cd24a5cdf7",
            "3b828a525d2d4e079fdeb2fde82974fc",
            "44d1958172f24de9919bcabdda6dfa4d",
            "d3708925f55a4005b347d5dd57cfbe77",
            "993626c820bc4a2a9cffa64674781db3",
            "040bbe4480fa40e38c28d6c4d7659f68",
            "e0e62467f8f9423f922bd39a45103eb3",
            "0d6c600e6a614e0398bd37d16c4dbc9c",
            "caadfd1a96414bb7bb7e155d70acb6e0",
            "ccad7e0ca8224829a98ad35e3ce7aaa2",
            "d7c58c95b30347ca8465529b05c03b9e",
            "a8e7c829a647454f98d5e989c2a917cb",
            "84e1c7edbb8d4da79fcd212e2187ad01",
            "c894147446cc4b849f0e5c9575408553",
            "0de29c5f0aec44ffbda4afd65ffa21d2",
            "f000c493c18e475e8d4bf52a903fa7f3",
            "149ead168cca4f9bab980e695f86d194",
            "c37ebbe5b8504a16b04484a32622675e",
            "cbcaca1f1bd24fe3a2ea4e62ae03e046",
            "c31ffe246aa9477aa3aa83cb6f4d9744",
            "c916e157a61f487d8588b80407d78492",
            "2d6120b7945d444390684f7e7f75601b",
            "f308b67a229548a6961d0b514e9208ff",
            "3bb9a9094d4b4992807bad1d72268d08",
            "9b4a4c74eca54d758e9daaebe7aea3ae",
            "d0ef4b6e53284694ad0911bd9882c014",
            "95a0e65481084898a0eb21a34582fe6f",
            "6174f0d2ebea4913ab427fe2f59d0202",
            "f27eb43df0ab48a38c079a880000f17e",
            "ea75a6ec7adb495e9893272aed7299fe",
            "33468b3cd8294411a41b6579dbf29618",
            "527c76996d3d473a9cc290b60824f76f",
            "a6c45a60e8d347bba2ea91138eff70e5",
            "5bd5effb1b164de8931436f557ff58d2",
            "dea2f6df2c844f8cad13d69d63a6f381",
            "9fb64823e57947b5a4243bcbcf19bd75",
            "8159820550054c8ebb20310ec4c05b90",
            "66bb5b0a6d14421e97910aec9f9bf419"
          ]
        },
        "outputId": "b641edda-7c19-442c-e605-5dc9dd5aa4bb"
      },
      "execution_count": null,
      "outputs": [
        {
          "output_type": "stream",
          "name": "stdout",
          "text": [
            "Downloading http://yann.lecun.com/exdb/mnist/train-images-idx3-ubyte.gz\n",
            "Downloading http://yann.lecun.com/exdb/mnist/train-images-idx3-ubyte.gz to MNIST_data/MNIST/raw/train-images-idx3-ubyte.gz\n"
          ]
        },
        {
          "output_type": "display_data",
          "data": {
            "text/plain": [
              "  0%|          | 0/9912422 [00:00<?, ?it/s]"
            ],
            "application/vnd.jupyter.widget-view+json": {
              "version_major": 2,
              "version_minor": 0,
              "model_id": "7e87d5d142e74cd18d89a2606125d3b9"
            }
          },
          "metadata": {}
        },
        {
          "output_type": "stream",
          "name": "stdout",
          "text": [
            "Extracting MNIST_data/MNIST/raw/train-images-idx3-ubyte.gz to MNIST_data/MNIST/raw\n",
            "\n",
            "Downloading http://yann.lecun.com/exdb/mnist/train-labels-idx1-ubyte.gz\n",
            "Downloading http://yann.lecun.com/exdb/mnist/train-labels-idx1-ubyte.gz to MNIST_data/MNIST/raw/train-labels-idx1-ubyte.gz\n"
          ]
        },
        {
          "output_type": "display_data",
          "data": {
            "text/plain": [
              "  0%|          | 0/28881 [00:00<?, ?it/s]"
            ],
            "application/vnd.jupyter.widget-view+json": {
              "version_major": 2,
              "version_minor": 0,
              "model_id": "040bbe4480fa40e38c28d6c4d7659f68"
            }
          },
          "metadata": {}
        },
        {
          "output_type": "stream",
          "name": "stdout",
          "text": [
            "Extracting MNIST_data/MNIST/raw/train-labels-idx1-ubyte.gz to MNIST_data/MNIST/raw\n",
            "\n",
            "Downloading http://yann.lecun.com/exdb/mnist/t10k-images-idx3-ubyte.gz\n",
            "Downloading http://yann.lecun.com/exdb/mnist/t10k-images-idx3-ubyte.gz to MNIST_data/MNIST/raw/t10k-images-idx3-ubyte.gz\n"
          ]
        },
        {
          "output_type": "display_data",
          "data": {
            "text/plain": [
              "  0%|          | 0/1648877 [00:00<?, ?it/s]"
            ],
            "application/vnd.jupyter.widget-view+json": {
              "version_major": 2,
              "version_minor": 0,
              "model_id": "149ead168cca4f9bab980e695f86d194"
            }
          },
          "metadata": {}
        },
        {
          "output_type": "stream",
          "name": "stdout",
          "text": [
            "Extracting MNIST_data/MNIST/raw/t10k-images-idx3-ubyte.gz to MNIST_data/MNIST/raw\n",
            "\n",
            "Downloading http://yann.lecun.com/exdb/mnist/t10k-labels-idx1-ubyte.gz\n",
            "Downloading http://yann.lecun.com/exdb/mnist/t10k-labels-idx1-ubyte.gz to MNIST_data/MNIST/raw/t10k-labels-idx1-ubyte.gz\n"
          ]
        },
        {
          "output_type": "display_data",
          "data": {
            "text/plain": [
              "  0%|          | 0/4542 [00:00<?, ?it/s]"
            ],
            "application/vnd.jupyter.widget-view+json": {
              "version_major": 2,
              "version_minor": 0,
              "model_id": "6174f0d2ebea4913ab427fe2f59d0202"
            }
          },
          "metadata": {}
        },
        {
          "output_type": "stream",
          "name": "stdout",
          "text": [
            "Extracting MNIST_data/MNIST/raw/t10k-labels-idx1-ubyte.gz to MNIST_data/MNIST/raw\n",
            "\n"
          ]
        },
        {
          "output_type": "execute_result",
          "data": {
            "text/plain": [
              "'\\n<torchvision>\\n: 유명한 데이터셋(MNIST, ciFar10, ciFar100 등), 모델 아키텍처, 컴퓨터 비전 테스크에 알맞도록 이미지 변형이 가능하게 하는 라이브러리\\n\\n<transform>\\n: 변형(transform)을 통해 데이터를 조작하고 학습에 적합하게 만듦\\n-> 여기서는 MNIST 이미지 데이터들을 tensor 형태로 바꾸어라!\\n'"
            ],
            "application/vnd.google.colaboratory.intrinsic+json": {
              "type": "string"
            }
          },
          "metadata": {},
          "execution_count": 26
        }
      ]
    },
    {
      "cell_type": "code",
      "source": [
        "# Hyper Parameter\n",
        "batch_size = 128\n",
        "lr = 0.01"
      ],
      "metadata": {
        "id": "EQTrxmcZqW7g"
      },
      "execution_count": null,
      "outputs": []
    },
    {
      "cell_type": "code",
      "source": [
        "# DataLoader: 많은 양의 데이터들을 배치(batch) 단위로 학습할 수 있도록 잘라주는 것\n",
        "data_loader = torch.utils.data.DataLoader(dataset=mnist_train,\n",
        "                                          batch_size=batch_size,\n",
        "                                          shuffle=True,\n",
        "                                          drop_last=True)"
      ],
      "metadata": {
        "id": "bcsldfq_hKuf"
      },
      "execution_count": null,
      "outputs": []
    },
    {
      "cell_type": "code",
      "source": [
        "# model 선언\n",
        "model = torch.nn.Linear(784, 10, bias=True).to(device)\n",
        "\n",
        "\"\"\"\n",
        "input: 784개의 input 이미지\n",
        "output: 10개의 클래스\n",
        "\"\"\""
      ],
      "metadata": {
        "id": "-VKV_51bhNZU",
        "colab": {
          "base_uri": "https://localhost:8080/",
          "height": 35
        },
        "outputId": "39ea0dae-1639-49c8-f059-a129949ae5a6"
      },
      "execution_count": null,
      "outputs": [
        {
          "output_type": "execute_result",
          "data": {
            "text/plain": [
              "'\\ninput: 784개의 input 이미지\\noutput: 10개의 클래스\\n'"
            ],
            "application/vnd.google.colaboratory.intrinsic+json": {
              "type": "string"
            }
          },
          "metadata": {},
          "execution_count": 29
        }
      ]
    },
    {
      "cell_type": "code",
      "source": [
        "# Cost와 Optimizer 선언\n",
        "criterion = torch.nn.CrossEntropyLoss().to(device) # softmax 연산을 내포하는 CrossEntropyLoss\n",
        "optimizer = torch.optim.Adam(model.parameters(), lr=lr)"
      ],
      "metadata": {
        "id": "sROB1DEUsOOw"
      },
      "execution_count": null,
      "outputs": []
    },
    {
      "cell_type": "code",
      "source": [
        "# 학습 (Training)\n",
        "total_batch = len(data_loader)\n",
        "for epoch in range(20):\n",
        "    avg_cost = 0\n",
        "    for X, Y in data_loader:\n",
        "        X = X.view(-1, 28 * 28).to(device) # 이미지를 한 줄로 쫙 펴주는 과정\n",
        "        Y = Y.to(device) # one-hot encoding 안 함\n",
        "\n",
        "        optimizer.zero_grad()\n",
        "        Y_hat = model(X) # 대문자 주의!\n",
        "        cost = criterion(Y_hat, Y)\n",
        "        cost.backward()\n",
        "        optimizer.step()\n",
        "\n",
        "        avg_cost += cost / total_batch # epoch의 오차를 계산하기 위함\n",
        "    print('Epoch:', '%04d' % (epoch + 1), 'cost =', '{:.9f}'.format(avg_cost))\n",
        "print('Learning finished')"
      ],
      "metadata": {
        "id": "_kF3uO2FhS5K",
        "colab": {
          "base_uri": "https://localhost:8080/"
        },
        "outputId": "fd7efe28-127c-445f-b8d5-a826eda44486"
      },
      "execution_count": null,
      "outputs": [
        {
          "output_type": "stream",
          "name": "stdout",
          "text": [
            "Epoch: 0001 cost = 0.360792428\n",
            "Epoch: 0002 cost = 0.293139547\n",
            "Epoch: 0003 cost = 0.285604358\n",
            "Epoch: 0004 cost = 0.276128322\n",
            "Epoch: 0005 cost = 0.273175687\n",
            "Epoch: 0006 cost = 0.272830486\n",
            "Epoch: 0007 cost = 0.273756832\n",
            "Epoch: 0008 cost = 0.268652529\n",
            "Epoch: 0009 cost = 0.266540766\n",
            "Epoch: 0010 cost = 0.265599459\n",
            "Epoch: 0011 cost = 0.266523451\n",
            "Epoch: 0012 cost = 0.264755428\n",
            "Epoch: 0013 cost = 0.259720087\n",
            "Epoch: 0014 cost = 0.261264831\n",
            "Epoch: 0015 cost = 0.260783643\n",
            "Epoch: 0016 cost = 0.261681646\n",
            "Epoch: 0017 cost = 0.257213473\n",
            "Epoch: 0018 cost = 0.256925344\n",
            "Epoch: 0019 cost = 0.257890195\n",
            "Epoch: 0020 cost = 0.260776162\n",
            "Learning finished\n"
          ]
        }
      ]
    },
    {
      "cell_type": "code",
      "source": [
        "# test 데이터 만들기\n",
        "#X_test와 Y_test로 나누어주는 과정\n",
        "X_test = mnist_test.test_data.view(-1, 28 * 28).float().to(device)\n",
        "Y_test = mnist_test.test_labels.to(device)\n",
        "\n",
        "\"\"\"\n",
        "https://qlsenddl-lab.tistory.com/38\n",
        "Expected object of scalar type Float but got scalar type Double for argument\n",
        "\"\"\""
      ],
      "metadata": {
        "colab": {
          "base_uri": "https://localhost:8080/"
        },
        "id": "WD3zP7fVyYJd",
        "outputId": "872c3b13-bc5b-4ac5-cb2c-cf5b6627d782"
      },
      "execution_count": null,
      "outputs": [
        {
          "output_type": "stream",
          "name": "stderr",
          "text": [
            "/usr/local/lib/python3.7/dist-packages/torchvision/datasets/mnist.py:80: UserWarning: test_data has been renamed data\n",
            "  warnings.warn(\"test_data has been renamed data\")\n",
            "/usr/local/lib/python3.7/dist-packages/torchvision/datasets/mnist.py:70: UserWarning: test_labels has been renamed targets\n",
            "  warnings.warn(\"test_labels has been renamed targets\")\n"
          ]
        }
      ]
    },
    {
      "cell_type": "code",
      "source": [
        "# Test\n",
        "with torch.no_grad():\n",
        "    prediction = model(X_test)\n",
        "    correct_prediction = torch.argmax(prediction, 1) == Y_test \n",
        "    # argmax: 행렬에서 가장 큰 값을 가지는 '인덱스(클래스)'로 하겠다! (행렬, dimension)\n",
        "\n",
        "    accuracy = correct_prediction.float().mean()\n",
        "    print('Accuracy:', accuracy.item())"
      ],
      "metadata": {
        "id": "yuZhkpp7hTmd",
        "colab": {
          "base_uri": "https://localhost:8080/"
        },
        "outputId": "384c3c35-ae3a-432d-bbc5-68470c4a72e0"
      },
      "execution_count": null,
      "outputs": [
        {
          "output_type": "stream",
          "name": "stdout",
          "text": [
            "Accuracy: 0.8562999963760376\n"
          ]
        }
      ]
    }
  ]
}